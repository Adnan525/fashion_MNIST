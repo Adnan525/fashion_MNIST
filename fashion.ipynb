{
 "cells": [
  {
   "cell_type": "markdown",
   "id": "99d12c62",
   "metadata": {},
   "source": [
    "Using logisting regression techniques covered in week 3 to explore the fashion_MNIST dataset"
   ]
  },
  {
   "cell_type": "markdown",
   "id": "524dbbec",
   "metadata": {},
   "source": [
    "# 1. Introduction\n",
    "\n",
    "The aim of part B is to use the logistic regression techniqes applied on MNIST dataset, on Zalando's fashion MNIST dataset.\n",
    "\n",
    "<b>Logistic Regression :</b> Logistic Regression is a statistical method used for analyzing datasets in which there are one or more independent variables that determine an outcome. Logistic Regression is used when the dependent variable (target) is categorical. The outcome is typically a binary outcome, such as 1/0, true/false, although logistic regression can be extended to handle multi-class classification problems as well.  \n",
    "Our goal is to use logistic regression to train a model that can classify 10 classes using the grayscale images present in the fashion_MNIST dataset."
   ]
  },
  {
   "cell_type": "markdown",
   "id": "7c7bd60f",
   "metadata": {},
   "source": [
    "# 2. About dataset\n",
    "Fashion MNIST is a dataset of Zlando's article images comprised of grayscale apparel images. The Aim of the dataset is to be a replacement of the MNIST datset to benchmark ML algorithms. The training set contains 60,000 examples and the test set has 10,000 datsets.  \n",
    "The training and test datasets have 60,000 and 10,000 rows respectively where each row represents an image and the label.  \n",
    "Both of them have 785 columns where column 0 has the label and rest of the columns have pixel values. The pixel values can be reshaped to a 28x28 matrix that can represent a 28x28 grayscale image.  \n",
    "Each example is a 28x28 grayscale image and has an assigned label.  \n",
    "There are 10 unique lable classes such as T-shirt, Trouser, Ankle-Boot etc. The dataset comprises images that pose a classification challenge beyond the capacity of human visual discernment."
   ]
  },
  {
   "cell_type": "markdown",
   "id": "d40f9274",
   "metadata": {},
   "source": [
    "<img src=\"dataset-cover.png\" />\n",
    "<center>Fashion MNIST data-cover</center>"
   ]
  },
  {
   "cell_type": "markdown",
   "id": "82882195",
   "metadata": {},
   "source": [
    "# 3. Why logistic regression can be used on Fashion_MNIST"
   ]
  },
  {
   "cell_type": "markdown",
   "id": "0ff9fc55",
   "metadata": {},
   "source": [
    "Logistic regression is suitable for Fashion MNIST as a simple and efficient baseline model. It can be used for quick prototyping, understanding feature importance, and as a reference point for more advanced models. However, for achieving the highest accuracy on Fashion MNIST or similar image classification tasks, deep learning techniques like CNNs are often the preferred choice.  \n",
    "For the initial part of this unit, we are only looking for an overview of the model and logistic regression is ideal for this since its simple yet powerful, computationally efficient, requires relatively fewer computational resources, quick to train, have a lower risk of overfitting, interpretable means the model can be understood unlike complex CNN architectures comprised of hidden layers ans black-boxes."
   ]
  },
  {
   "cell_type": "markdown",
   "id": "2efdd297",
   "metadata": {},
   "source": [
    "Loading libraries like pandas for data manipulation, matplotlib to plot data, sklearn to import the classificarion algorithm, data splittin and measure accuracy"
   ]
  },
  {
   "cell_type": "code",
   "execution_count": 145,
   "id": "41e12db5",
   "metadata": {},
   "outputs": [],
   "source": [
    "import warnings\n",
    "warnings.filterwarnings(\"ignore\")"
   ]
  },
  {
   "cell_type": "code",
   "execution_count": 146,
   "id": "d0db9394",
   "metadata": {},
   "outputs": [],
   "source": [
    "import numpy as np\n",
    "import pandas as pd\n",
    "import math\n",
    "import itertools\n",
    "import matplotlib as mpl\n",
    "import matplotlib.pyplot as plt\n",
    "import matplotlib.pylab as pylab\n",
    "from sklearn.model_selection import train_test_split\n",
    "from sklearn.linear_model import LogisticRegression\n",
    "from sklearn.metrics import confusion_matrix, classification_report"
   ]
  },
  {
   "cell_type": "markdown",
   "id": "7a941ef3",
   "metadata": {},
   "source": [
    "# 4. <b>Retrieving data</b>\n",
    "Loadin data from \"fashio_MNIST\" dir in the working directory using  using pandas read_csv().  \n",
    "<b>THE CODE CELL BELOW WILL HAVE TO BE REPLACED WITH CORRECT PATH IF THE DATASET IS STORED ANYWHERE ELSE.</b>"
   ]
  },
  {
   "cell_type": "code",
   "execution_count": 147,
   "id": "d29c1af6",
   "metadata": {},
   "outputs": [],
   "source": [
    "df_train = pd.read_csv(\"fashion_MNIST/fashion-mnist_train.csv\")\n",
    "df_test = pd.read_csv(\"fashion_MNIST/fashion-mnist_test.csv\")"
   ]
  },
  {
   "cell_type": "markdown",
   "id": "bb50f418",
   "metadata": {},
   "source": [
    "# 5. <b>Exploring data</b> "
   ]
  },
  {
   "cell_type": "markdown",
   "id": "552c0d6e",
   "metadata": {},
   "source": [
    "<b>5.1 Explore the data and images : </b> Cheking the first few rows of the data can provide us with how data is arranged, how the dataset is labelled, data types and what variables are present in the dataset"
   ]
  },
  {
   "cell_type": "code",
   "execution_count": 148,
   "id": "5b6f44b9",
   "metadata": {},
   "outputs": [
    {
     "data": {
      "text/html": [
       "<div>\n",
       "<style scoped>\n",
       "    .dataframe tbody tr th:only-of-type {\n",
       "        vertical-align: middle;\n",
       "    }\n",
       "\n",
       "    .dataframe tbody tr th {\n",
       "        vertical-align: top;\n",
       "    }\n",
       "\n",
       "    .dataframe thead th {\n",
       "        text-align: right;\n",
       "    }\n",
       "</style>\n",
       "<table border=\"1\" class=\"dataframe\">\n",
       "  <thead>\n",
       "    <tr style=\"text-align: right;\">\n",
       "      <th></th>\n",
       "      <th>label</th>\n",
       "      <th>pixel1</th>\n",
       "      <th>pixel2</th>\n",
       "      <th>pixel3</th>\n",
       "      <th>pixel4</th>\n",
       "      <th>pixel5</th>\n",
       "      <th>pixel6</th>\n",
       "      <th>pixel7</th>\n",
       "      <th>pixel8</th>\n",
       "      <th>pixel9</th>\n",
       "      <th>...</th>\n",
       "      <th>pixel775</th>\n",
       "      <th>pixel776</th>\n",
       "      <th>pixel777</th>\n",
       "      <th>pixel778</th>\n",
       "      <th>pixel779</th>\n",
       "      <th>pixel780</th>\n",
       "      <th>pixel781</th>\n",
       "      <th>pixel782</th>\n",
       "      <th>pixel783</th>\n",
       "      <th>pixel784</th>\n",
       "    </tr>\n",
       "  </thead>\n",
       "  <tbody>\n",
       "    <tr>\n",
       "      <th>0</th>\n",
       "      <td>2</td>\n",
       "      <td>0</td>\n",
       "      <td>0</td>\n",
       "      <td>0</td>\n",
       "      <td>0</td>\n",
       "      <td>0</td>\n",
       "      <td>0</td>\n",
       "      <td>0</td>\n",
       "      <td>0</td>\n",
       "      <td>0</td>\n",
       "      <td>...</td>\n",
       "      <td>0</td>\n",
       "      <td>0</td>\n",
       "      <td>0</td>\n",
       "      <td>0</td>\n",
       "      <td>0</td>\n",
       "      <td>0</td>\n",
       "      <td>0</td>\n",
       "      <td>0</td>\n",
       "      <td>0</td>\n",
       "      <td>0</td>\n",
       "    </tr>\n",
       "    <tr>\n",
       "      <th>1</th>\n",
       "      <td>9</td>\n",
       "      <td>0</td>\n",
       "      <td>0</td>\n",
       "      <td>0</td>\n",
       "      <td>0</td>\n",
       "      <td>0</td>\n",
       "      <td>0</td>\n",
       "      <td>0</td>\n",
       "      <td>0</td>\n",
       "      <td>0</td>\n",
       "      <td>...</td>\n",
       "      <td>0</td>\n",
       "      <td>0</td>\n",
       "      <td>0</td>\n",
       "      <td>0</td>\n",
       "      <td>0</td>\n",
       "      <td>0</td>\n",
       "      <td>0</td>\n",
       "      <td>0</td>\n",
       "      <td>0</td>\n",
       "      <td>0</td>\n",
       "    </tr>\n",
       "    <tr>\n",
       "      <th>2</th>\n",
       "      <td>6</td>\n",
       "      <td>0</td>\n",
       "      <td>0</td>\n",
       "      <td>0</td>\n",
       "      <td>0</td>\n",
       "      <td>0</td>\n",
       "      <td>0</td>\n",
       "      <td>0</td>\n",
       "      <td>5</td>\n",
       "      <td>0</td>\n",
       "      <td>...</td>\n",
       "      <td>0</td>\n",
       "      <td>0</td>\n",
       "      <td>0</td>\n",
       "      <td>30</td>\n",
       "      <td>43</td>\n",
       "      <td>0</td>\n",
       "      <td>0</td>\n",
       "      <td>0</td>\n",
       "      <td>0</td>\n",
       "      <td>0</td>\n",
       "    </tr>\n",
       "    <tr>\n",
       "      <th>3</th>\n",
       "      <td>0</td>\n",
       "      <td>0</td>\n",
       "      <td>0</td>\n",
       "      <td>0</td>\n",
       "      <td>1</td>\n",
       "      <td>2</td>\n",
       "      <td>0</td>\n",
       "      <td>0</td>\n",
       "      <td>0</td>\n",
       "      <td>0</td>\n",
       "      <td>...</td>\n",
       "      <td>3</td>\n",
       "      <td>0</td>\n",
       "      <td>0</td>\n",
       "      <td>0</td>\n",
       "      <td>0</td>\n",
       "      <td>1</td>\n",
       "      <td>0</td>\n",
       "      <td>0</td>\n",
       "      <td>0</td>\n",
       "      <td>0</td>\n",
       "    </tr>\n",
       "    <tr>\n",
       "      <th>4</th>\n",
       "      <td>3</td>\n",
       "      <td>0</td>\n",
       "      <td>0</td>\n",
       "      <td>0</td>\n",
       "      <td>0</td>\n",
       "      <td>0</td>\n",
       "      <td>0</td>\n",
       "      <td>0</td>\n",
       "      <td>0</td>\n",
       "      <td>0</td>\n",
       "      <td>...</td>\n",
       "      <td>0</td>\n",
       "      <td>0</td>\n",
       "      <td>0</td>\n",
       "      <td>0</td>\n",
       "      <td>0</td>\n",
       "      <td>0</td>\n",
       "      <td>0</td>\n",
       "      <td>0</td>\n",
       "      <td>0</td>\n",
       "      <td>0</td>\n",
       "    </tr>\n",
       "  </tbody>\n",
       "</table>\n",
       "<p>5 rows × 785 columns</p>\n",
       "</div>"
      ],
      "text/plain": [
       "   label  pixel1  pixel2  pixel3  pixel4  pixel5  pixel6  pixel7  pixel8  \\\n",
       "0      2       0       0       0       0       0       0       0       0   \n",
       "1      9       0       0       0       0       0       0       0       0   \n",
       "2      6       0       0       0       0       0       0       0       5   \n",
       "3      0       0       0       0       1       2       0       0       0   \n",
       "4      3       0       0       0       0       0       0       0       0   \n",
       "\n",
       "   pixel9  ...  pixel775  pixel776  pixel777  pixel778  pixel779  pixel780  \\\n",
       "0       0  ...         0         0         0         0         0         0   \n",
       "1       0  ...         0         0         0         0         0         0   \n",
       "2       0  ...         0         0         0        30        43         0   \n",
       "3       0  ...         3         0         0         0         0         1   \n",
       "4       0  ...         0         0         0         0         0         0   \n",
       "\n",
       "   pixel781  pixel782  pixel783  pixel784  \n",
       "0         0         0         0         0  \n",
       "1         0         0         0         0  \n",
       "2         0         0         0         0  \n",
       "3         0         0         0         0  \n",
       "4         0         0         0         0  \n",
       "\n",
       "[5 rows x 785 columns]"
      ]
     },
     "execution_count": 148,
     "metadata": {},
     "output_type": "execute_result"
    }
   ],
   "source": [
    "df_train.head()"
   ]
  },
  {
   "cell_type": "code",
   "execution_count": 149,
   "id": "2dbeb794",
   "metadata": {},
   "outputs": [
    {
     "data": {
      "text/plain": [
       "(60000, 785)"
      ]
     },
     "execution_count": 149,
     "metadata": {},
     "output_type": "execute_result"
    }
   ],
   "source": [
    "# checking dataframe shape\n",
    "# 60,000 values\n",
    "# 785 variables\n",
    "df_train.shape"
   ]
  },
  {
   "cell_type": "markdown",
   "id": "8818527e",
   "metadata": {},
   "source": [
    "The label contains numerical value, for ease of understanding the values can be mapped to a dictionary where each unique value from the label column corresponds to an apparel.  \n",
    "df_train.dtypes() will show us the data type of each column.  \n",
    "The label is int64 or numerical value, so the dictioanry key value will be of type integer and value can be String.  \n",
    "In the dataset -  \n",
    "• Label: The Target variable.  \n",
    "• Pixels: The smallest unit of a Digital Image."
   ]
  },
  {
   "cell_type": "code",
   "execution_count": 150,
   "id": "2e6461d8",
   "metadata": {},
   "outputs": [],
   "source": [
    "#label is int64 not string\n",
    "mapping = {\n",
    "    0 : 'T-shirt/top',\n",
    "    1 : 'Trouser',\n",
    "    2 : 'Pullover',\n",
    "    3 : 'Dress',\n",
    "    4 : 'Coat',\n",
    "    5 : 'Sandal',\n",
    "    6 : 'Shirt',\n",
    "    7 : 'Sneaker',\n",
    "    8 : 'Bag',\n",
    "    9 : 'Ankle boot'}"
   ]
  },
  {
   "cell_type": "code",
   "execution_count": 151,
   "id": "700bb368",
   "metadata": {},
   "outputs": [
    {
     "data": {
      "text/html": [
       "<div>\n",
       "<style scoped>\n",
       "    .dataframe tbody tr th:only-of-type {\n",
       "        vertical-align: middle;\n",
       "    }\n",
       "\n",
       "    .dataframe tbody tr th {\n",
       "        vertical-align: top;\n",
       "    }\n",
       "\n",
       "    .dataframe thead th {\n",
       "        text-align: right;\n",
       "    }\n",
       "</style>\n",
       "<table border=\"1\" class=\"dataframe\">\n",
       "  <thead>\n",
       "    <tr style=\"text-align: right;\">\n",
       "      <th></th>\n",
       "      <th>label</th>\n",
       "      <th>pixel1</th>\n",
       "      <th>pixel2</th>\n",
       "      <th>pixel3</th>\n",
       "      <th>pixel4</th>\n",
       "      <th>pixel5</th>\n",
       "      <th>pixel6</th>\n",
       "      <th>pixel7</th>\n",
       "      <th>pixel8</th>\n",
       "      <th>pixel9</th>\n",
       "      <th>...</th>\n",
       "      <th>pixel775</th>\n",
       "      <th>pixel776</th>\n",
       "      <th>pixel777</th>\n",
       "      <th>pixel778</th>\n",
       "      <th>pixel779</th>\n",
       "      <th>pixel780</th>\n",
       "      <th>pixel781</th>\n",
       "      <th>pixel782</th>\n",
       "      <th>pixel783</th>\n",
       "      <th>pixel784</th>\n",
       "    </tr>\n",
       "  </thead>\n",
       "  <tbody>\n",
       "    <tr>\n",
       "      <th>0</th>\n",
       "      <td>Pullover</td>\n",
       "      <td>0</td>\n",
       "      <td>0</td>\n",
       "      <td>0</td>\n",
       "      <td>0</td>\n",
       "      <td>0</td>\n",
       "      <td>0</td>\n",
       "      <td>0</td>\n",
       "      <td>0</td>\n",
       "      <td>0</td>\n",
       "      <td>...</td>\n",
       "      <td>0</td>\n",
       "      <td>0</td>\n",
       "      <td>0</td>\n",
       "      <td>0</td>\n",
       "      <td>0</td>\n",
       "      <td>0</td>\n",
       "      <td>0</td>\n",
       "      <td>0</td>\n",
       "      <td>0</td>\n",
       "      <td>0</td>\n",
       "    </tr>\n",
       "    <tr>\n",
       "      <th>1</th>\n",
       "      <td>Ankle boot</td>\n",
       "      <td>0</td>\n",
       "      <td>0</td>\n",
       "      <td>0</td>\n",
       "      <td>0</td>\n",
       "      <td>0</td>\n",
       "      <td>0</td>\n",
       "      <td>0</td>\n",
       "      <td>0</td>\n",
       "      <td>0</td>\n",
       "      <td>...</td>\n",
       "      <td>0</td>\n",
       "      <td>0</td>\n",
       "      <td>0</td>\n",
       "      <td>0</td>\n",
       "      <td>0</td>\n",
       "      <td>0</td>\n",
       "      <td>0</td>\n",
       "      <td>0</td>\n",
       "      <td>0</td>\n",
       "      <td>0</td>\n",
       "    </tr>\n",
       "    <tr>\n",
       "      <th>2</th>\n",
       "      <td>Shirt</td>\n",
       "      <td>0</td>\n",
       "      <td>0</td>\n",
       "      <td>0</td>\n",
       "      <td>0</td>\n",
       "      <td>0</td>\n",
       "      <td>0</td>\n",
       "      <td>0</td>\n",
       "      <td>5</td>\n",
       "      <td>0</td>\n",
       "      <td>...</td>\n",
       "      <td>0</td>\n",
       "      <td>0</td>\n",
       "      <td>0</td>\n",
       "      <td>30</td>\n",
       "      <td>43</td>\n",
       "      <td>0</td>\n",
       "      <td>0</td>\n",
       "      <td>0</td>\n",
       "      <td>0</td>\n",
       "      <td>0</td>\n",
       "    </tr>\n",
       "    <tr>\n",
       "      <th>3</th>\n",
       "      <td>T-shirt/top</td>\n",
       "      <td>0</td>\n",
       "      <td>0</td>\n",
       "      <td>0</td>\n",
       "      <td>1</td>\n",
       "      <td>2</td>\n",
       "      <td>0</td>\n",
       "      <td>0</td>\n",
       "      <td>0</td>\n",
       "      <td>0</td>\n",
       "      <td>...</td>\n",
       "      <td>3</td>\n",
       "      <td>0</td>\n",
       "      <td>0</td>\n",
       "      <td>0</td>\n",
       "      <td>0</td>\n",
       "      <td>1</td>\n",
       "      <td>0</td>\n",
       "      <td>0</td>\n",
       "      <td>0</td>\n",
       "      <td>0</td>\n",
       "    </tr>\n",
       "    <tr>\n",
       "      <th>4</th>\n",
       "      <td>Dress</td>\n",
       "      <td>0</td>\n",
       "      <td>0</td>\n",
       "      <td>0</td>\n",
       "      <td>0</td>\n",
       "      <td>0</td>\n",
       "      <td>0</td>\n",
       "      <td>0</td>\n",
       "      <td>0</td>\n",
       "      <td>0</td>\n",
       "      <td>...</td>\n",
       "      <td>0</td>\n",
       "      <td>0</td>\n",
       "      <td>0</td>\n",
       "      <td>0</td>\n",
       "      <td>0</td>\n",
       "      <td>0</td>\n",
       "      <td>0</td>\n",
       "      <td>0</td>\n",
       "      <td>0</td>\n",
       "      <td>0</td>\n",
       "    </tr>\n",
       "  </tbody>\n",
       "</table>\n",
       "<p>5 rows × 785 columns</p>\n",
       "</div>"
      ],
      "text/plain": [
       "         label  pixel1  pixel2  pixel3  pixel4  pixel5  pixel6  pixel7  \\\n",
       "0     Pullover       0       0       0       0       0       0       0   \n",
       "1   Ankle boot       0       0       0       0       0       0       0   \n",
       "2        Shirt       0       0       0       0       0       0       0   \n",
       "3  T-shirt/top       0       0       0       1       2       0       0   \n",
       "4        Dress       0       0       0       0       0       0       0   \n",
       "\n",
       "   pixel8  pixel9  ...  pixel775  pixel776  pixel777  pixel778  pixel779  \\\n",
       "0       0       0  ...         0         0         0         0         0   \n",
       "1       0       0  ...         0         0         0         0         0   \n",
       "2       5       0  ...         0         0         0        30        43   \n",
       "3       0       0  ...         3         0         0         0         0   \n",
       "4       0       0  ...         0         0         0         0         0   \n",
       "\n",
       "   pixel780  pixel781  pixel782  pixel783  pixel784  \n",
       "0         0         0         0         0         0  \n",
       "1         0         0         0         0         0  \n",
       "2         0         0         0         0         0  \n",
       "3         1         0         0         0         0  \n",
       "4         0         0         0         0         0  \n",
       "\n",
       "[5 rows x 785 columns]"
      ]
     },
     "execution_count": 151,
     "metadata": {},
     "output_type": "execute_result"
    }
   ],
   "source": [
    "# mapping the values\n",
    "temp = df_train.replace({\"label\" : mapping})\n",
    "temp.head()"
   ]
  },
  {
   "cell_type": "markdown",
   "id": "d9442058",
   "metadata": {},
   "source": [
    "Using matplotlib we can plot the pixel values from the datset which are in column 1-784.  \n",
    "Reshaping the values to 28x28 will give us a 28x28 matrix that can represent the original image.  \n",
    "The image along with the label will provide us a better understandsing of the dataset."
   ]
  },
  {
   "cell_type": "code",
   "execution_count": 152,
   "id": "f5d30a47",
   "metadata": {},
   "outputs": [
    {
     "data": {
      "text/plain": [
       "Text(0.5, 1.0, 'T-shirt/top')"
      ]
     },
     "execution_count": 152,
     "metadata": {},
     "output_type": "execute_result"
    },
    {
     "data": {
      "image/png": "[encoded data removed]",
      "text/plain": [
       "<Figure size 640x480 with 1 Axes>"
      ]
     },
     "metadata": {},
     "output_type": "display_data"
    }
   ],
   "source": [
    "# get label\n",
    "label = temp.iloc[:, 0]\n",
    "# getting 28x28 matrix that will represent the image\n",
    "# using a random value 13 to show th result\n",
    "img = temp.drop('label', axis=1).values[13].reshape(28,28)\n",
    "plt.imshow(img, cmap='gray')\n",
    "plt.title(label[13])"
   ]
  },
  {
   "cell_type": "markdown",
   "id": "1b40890a",
   "metadata": {},
   "source": [
    "<b>5.2 Corresponding Matrix : </b> The img variable holds the 28x28 corresponding matrix that represents the previous image"
   ]
  },
  {
   "cell_type": "code",
   "execution_count": 153,
   "id": "b8c638c2",
   "metadata": {},
   "outputs": [
    {
     "data": {
      "text/plain": [
       "array([[  0,   0,   0,   0,   0,   0,   0,   0,   0,   0,   0,   0,   0,\n",
       "          0,   0,   0,   0,   0,   0,   0,   0,   0,   0,   0,   0,   0,\n",
       "          0,   0],\n",
       "       [  0,   0,   0,   0,   0,   3,   0,   0,   0, 142, 205,  52,   0,\n",
       "          0,   0,   0,  19, 171, 187,  41,   0,   0,   0,   3,   0,   0,\n",
       "          0,   0],\n",
       "       [  0,   0,   0,   2,   0,   0,  21, 149, 241, 221, 227, 220, 196,\n",
       "        185, 185, 195, 206, 223, 215, 216, 244, 135,   0,   0,   6,   0,\n",
       "          1,   0],\n",
       "       [  0,   0,   3,   0,   0, 119, 223, 220, 208, 199, 208, 205, 191,\n",
       "        194, 194, 195, 199, 207, 202, 200, 206, 230, 196,  19,   0,   4,\n",
       "          0,   0],\n",
       "       [  0,   4,   0,   0, 160, 234, 196, 197, 204, 207, 197, 216, 220,\n",
       "        217, 218, 215, 216, 203, 201, 202, 205, 199, 211, 206,  21,   0,\n",
       "          8,   0],\n",
       "       [  5,   0,   0, 196, 226, 194, 206, 200, 207, 205, 201, 195, 193,\n",
       "        198, 202, 201, 198, 197, 199, 199, 202, 205, 199, 207, 213,  36,\n",
       "          0,   6],\n",
       "       [  0,   3, 184, 218, 192, 204, 204, 199, 206, 202, 200, 203, 215,\n",
       "        219, 208, 204, 205, 195, 200, 191, 201, 203, 204, 197, 205, 212,\n",
       "         26,   0],\n",
       "       [ 42, 189, 218, 201, 200, 201, 200, 200, 200, 203, 195, 223, 158,\n",
       "        128, 100, 151, 208, 193, 205, 200, 203, 197, 203, 203, 197, 209,\n",
       "        201,  30],\n",
       "       [ 68, 223, 200, 197, 198, 201, 199, 200, 201, 199, 193, 210, 138,\n",
       "         19,   2, 109, 242, 213, 214, 207, 197, 203, 204, 203, 202, 198,\n",
       "        225,  77],\n",
       "       [  0,  61, 217, 200, 197, 200, 198, 200, 203, 208, 195, 236, 173,\n",
       "          0,   0, 108, 225,  73, 163, 217, 195, 202, 202, 201, 198, 225,\n",
       "         78,   0],\n",
       "       [  4,   0,  98, 220, 196, 196, 195, 201, 202, 220,  89, 100, 172,\n",
       "          0,   0,  73, 127,  77, 208, 210, 196, 195, 204, 202, 220,  86,\n",
       "          0,   3],\n",
       "       [  3,   1,   0, 148, 229, 199, 199, 202, 199, 223, 176,  85, 133,\n",
       "         62,  13, 118, 105, 165, 231, 200, 204, 203, 193, 255, 105,   0,\n",
       "          0,   0],\n",
       "       [  0,   2,   0,   0,  73, 155, 218, 200, 201, 198, 232, 172, 115,\n",
       "        116, 112, 116, 154, 233, 200, 202, 199, 241,  77,  22,   0,   0,\n",
       "          2,   0],\n",
       "       [  0,   0,   2,   0,   0, 178, 217, 195, 206, 204, 198, 244, 141,\n",
       "        149, 136, 144, 160, 182, 209, 200, 199, 215, 114,   0,   0,   0,\n",
       "          0,   0],\n",
       "       [  0,   2,   1,   0,   0, 208, 210, 194, 205, 197, 215, 143, 110,\n",
       "        138, 162, 144,  83,  70, 232, 199, 198, 210, 139,   0,   7,   0,\n",
       "          0,   0],\n",
       "       [  1,   0,   2,   0,   0, 215, 205, 200, 203, 196, 220, 144, 141,\n",
       "        162, 137, 159,  69, 179, 236, 199, 196, 215, 147,   0,   6,   0,\n",
       "          0,   0],\n",
       "       [  0,   0,   1,   0,   0, 183, 209, 204, 205, 196, 222, 160,  37,\n",
       "         51,  52,  90,  11, 170, 212, 199, 199, 217, 152,   0,   5,   0,\n",
       "          0,   0],\n",
       "       [  0,   0,   1,   0,   0, 185, 206, 202, 201, 203, 217, 194, 116,\n",
       "        140, 151, 181,  61, 187, 211, 199, 199, 217, 151,   0,   5,   0,\n",
       "          0,   0],\n",
       "       [  0,   0,   2,   0,   0, 190, 205, 200, 201, 198, 215, 200, 169,\n",
       "        176, 185, 166,   0, 173, 213, 199, 199, 217, 155,   0,   5,   0,\n",
       "          0,   0],\n",
       "       [  0,   0,   2,   0,   0, 195, 205, 202, 201, 199, 228, 103,  54,\n",
       "         65,  54,  80,   0,  96, 241, 198, 199, 216, 160,   0,   5,   0,\n",
       "          0,   0],\n",
       "       [  0,   0,   2,   0,   0, 199, 204, 201, 203, 201, 217, 191,  92,\n",
       "        108, 120, 139,  24, 173, 240, 200, 199, 213, 164,   0,   4,   0,\n",
       "          0,   0],\n",
       "       [  0,   0,   3,   0,   0, 202, 203, 200, 207, 199, 212, 190, 129,\n",
       "        145, 136, 163,  32,  44, 231, 203, 199, 213, 162,   0,   4,   0,\n",
       "          0,   0],\n",
       "       [  0,   0,   3,   0,   1, 203, 204, 202, 202, 205, 206, 208, 208,\n",
       "        212, 211, 223, 116, 103, 249, 197, 200, 215, 168,   0,   5,   0,\n",
       "          0,   0],\n",
       "       [  0,   0,   3,   0,   5, 206, 205, 202, 200, 206, 204, 200, 191,\n",
       "        184, 174, 209, 130,  72, 239, 200, 200, 216, 167,   0,   4,   0,\n",
       "          0,   0],\n",
       "       [  0,   0,   3,   0,   6, 205, 202, 200, 201, 199, 207, 165,  83,\n",
       "        101,  88, 106,  16, 127, 215, 200, 196, 215, 147,   0,   4,   0,\n",
       "          0,   0],\n",
       "       [  0,   0,   3,   0,  16, 222, 214, 208, 211, 206, 217, 158, 123,\n",
       "        151, 138, 169,  35, 182, 216, 207, 211, 228, 154,   0,   4,   0,\n",
       "          0,   0],\n",
       "       [  0,   0,   3,   0,  21, 167, 184, 185, 186, 184, 198, 132,  41,\n",
       "         67,  70,  73,  84, 240, 194, 186, 181, 192, 133,   0,   3,   0,\n",
       "          0,   0],\n",
       "       [  0,   0,   0,   0,   0,   0,   0,   0,   0,   0,   0,   2,   6,\n",
       "         15,  13,   5,  10,   0,   0,   0,   0,   0,   0,   0,   1,   0,\n",
       "          0,   0]], dtype=int64)"
      ]
     },
     "execution_count": 153,
     "metadata": {},
     "output_type": "execute_result"
    }
   ],
   "source": [
    "img"
   ]
  },
  {
   "cell_type": "markdown",
   "id": "0be01643",
   "metadata": {},
   "source": [
    "<b>5.3 Describe the dataset: </b> Exploring the dataset sheds light on the data structure of this particular dataset.  \n",
    "    a) The dataset is comprised of numerical values.  \n",
    "    b) The first column(0) represents the labels which have been mapped to string values.  \n",
    "    c) The rest of the columns(1-784) represent the pixel values.  \n",
    "    d) Reshaping the pixel values to a 28x28 matrix can provide us with a corresponding matrix of the image.  \n",
    "    e) The matrix can be plotted to get the original image.  \n",
    "    f) The pixel values range from 0 - 255, can be normalized before using for logistic regression.  \n",
    "    g) The label values has to be casted to categorical type before we can use it for logistic regression."
   ]
  },
  {
   "cell_type": "markdown",
   "id": "44baead4",
   "metadata": {},
   "source": [
    "<b>5.4 Data cleansing : </b> We need to chek if the dataset has any missing values and if yes, how the missing parametres can be filled or discarded.  \n",
    "Upon checking it seems the dataset has no missing values, so no further action required."
   ]
  },
  {
   "cell_type": "code",
   "execution_count": 154,
   "id": "762ea81e",
   "metadata": {},
   "outputs": [],
   "source": [
    "#check for NA\n",
    "df_train.isna().sum()\n",
    "df_train = df_train.dropna() #doesnt have any NA anyway"
   ]
  },
  {
   "cell_type": "markdown",
   "id": "89cfdda5",
   "metadata": {},
   "source": [
    "# 6. Building a logistic regression model"
   ]
  },
  {
   "cell_type": "markdown",
   "id": "db16fa88",
   "metadata": {},
   "source": [
    "<b>6.1 Loading packages : </b> Packages required for the logistic regression model are Logistic Regression, Train_test_split, confusion_matrix, classification_report from sklearn.  \n",
    "    The packages have been loaded at the beginning of the notebook"
   ]
  },
  {
   "cell_type": "markdown",
   "id": "6f4f57a7",
   "metadata": {},
   "source": [
    "<b>6.2 Target Variable : </b>"
   ]
  },
  {
   "cell_type": "code",
   "execution_count": 155,
   "id": "9b916284",
   "metadata": {},
   "outputs": [],
   "source": [
    "#X colums\n",
    "X = df_train[df_train.columns[1:]]\n",
    "#pred\n",
    "y = df_train[\"label\"]"
   ]
  },
  {
   "cell_type": "code",
   "execution_count": 156,
   "id": "2a48ba7a",
   "metadata": {},
   "outputs": [],
   "source": [
    "#same for test\n",
    "testX = df_test[df_test.columns[1:]]\n",
    "testY = df_test[\"label\"]"
   ]
  },
  {
   "cell_type": "markdown",
   "id": "9c37abfa",
   "metadata": {},
   "source": [
    "<b>6.3 Data preparation : </b> Data preparation will include the following actions -  \n",
    "    a) Normalize the test and train dataset, so we need to divide the numerical values with 255  \n",
    "    b) Convert the labels to categorical variables since logistic regression only work when predicted variables are categorical"
   ]
  },
  {
   "cell_type": "code",
   "execution_count": 157,
   "id": "86fae8b7",
   "metadata": {},
   "outputs": [],
   "source": [
    "#preparing the test dataset\n",
    "#scaling\n",
    "testX = testX.astype(\"float32\")/255\n",
    "testY = pd.Categorical(testY)"
   ]
  },
  {
   "cell_type": "code",
   "execution_count": 158,
   "id": "b506b7ce",
   "metadata": {},
   "outputs": [],
   "source": [
    "#preparing the training set\n",
    "#data scaling\n",
    "X = X.astype(\"float32\")/255\n",
    "#y needs to be converted into categorical\n",
    "y = pd.Categorical(y)"
   ]
  },
  {
   "cell_type": "markdown",
   "id": "d23b4f79",
   "metadata": {},
   "source": [
    "<b>6.4 Data splitting between Train and Validation : </b> \n",
    "The division of the training data into two distinct sets, namely the \"Training Set\" and the \"Validation Set,\" serves specific purposes within the context of our study. The Training Set is primarily employed for the training of our machine learning model, allowing it to learn and adjust its parameters based on the provided data. In contrast, the Validation Set serves as a means to assess the performance and generalization capabilities of our model on the dataset.\n",
    "To achieve this division, we employ the \"train_test_split\" method provided by the scikit-learn library, a widely-used machine learning toolkit. This method facilitates the creation of these separate sets, enabling us to effectively train and evaluate the model's performance in a systematic manner."
   ]
  },
  {
   "cell_type": "code",
   "execution_count": 159,
   "id": "8c1060ec",
   "metadata": {},
   "outputs": [],
   "source": [
    "X, validation_train, y, validation_test = train_test_split(X, y,test_size=0.1, random_state=66)"
   ]
  },
  {
   "cell_type": "markdown",
   "id": "7b30e0e8",
   "metadata": {},
   "source": [
    "<b>6.5 Selecting a linear regressuion classifier : </b>"
   ]
  },
  {
   "cell_type": "code",
   "execution_count": 160,
   "id": "b1b94774",
   "metadata": {},
   "outputs": [],
   "source": [
    "#logistic regression\n",
    "lr = LogisticRegression(solver = 'lbfgs', max_iter = 1000)"
   ]
  },
  {
   "cell_type": "markdown",
   "id": "f16b0702",
   "metadata": {},
   "source": [
    "<b>6.6 Fitting the data : </b>"
   ]
  },
  {
   "cell_type": "code",
   "execution_count": 161,
   "id": "1534937b",
   "metadata": {},
   "outputs": [
    {
     "data": {
      "text/html": [
       "<style>#sk-container-id-1 {color: black;}#sk-container-id-1 pre{padding: 0;}#sk-container-id-1 div.sk-toggleable {background-color: white;}#sk-container-id-1 label.sk-toggleable__label {cursor: pointer;display: block;width: 100%;margin-bottom: 0;padding: 0.3em;box-sizing: border-box;text-align: center;}#sk-container-id-1 label.sk-toggleable__label-arrow:before {content: \"▸\";float: left;margin-right: 0.25em;color: #696969;}#sk-container-id-1 label.sk-toggleable__label-arrow:hover:before {color: black;}#sk-container-id-1 div.sk-estimator:hover label.sk-toggleable__label-arrow:before {color: black;}#sk-container-id-1 div.sk-toggleable__content {max-height: 0;max-width: 0;overflow: hidden;text-align: left;background-color: #f0f8ff;}#sk-container-id-1 div.sk-toggleable__content pre {margin: 0.2em;color: black;border-radius: 0.25em;background-color: #f0f8ff;}#sk-container-id-1 input.sk-toggleable__control:checked~div.sk-toggleable__content {max-height: 200px;max-width: 100%;overflow: auto;}#sk-container-id-1 input.sk-toggleable__control:checked~label.sk-toggleable__label-arrow:before {content: \"▾\";}#sk-container-id-1 div.sk-estimator input.sk-toggleable__control:checked~label.sk-toggleable__label {background-color: #d4ebff;}#sk-container-id-1 div.sk-label input.sk-toggleable__control:checked~label.sk-toggleable__label {background-color: #d4ebff;}#sk-container-id-1 input.sk-hidden--visually {border: 0;clip: rect(1px 1px 1px 1px);clip: rect(1px, 1px, 1px, 1px);height: 1px;margin: -1px;overflow: hidden;padding: 0;position: absolute;width: 1px;}#sk-container-id-1 div.sk-estimator {font-family: monospace;background-color: #f0f8ff;border: 1px dotted black;border-radius: 0.25em;box-sizing: border-box;margin-bottom: 0.5em;}#sk-container-id-1 div.sk-estimator:hover {background-color: #d4ebff;}#sk-container-id-1 div.sk-parallel-item::after {content: \"\";width: 100%;border-bottom: 1px solid gray;flex-grow: 1;}#sk-container-id-1 div.sk-label:hover label.sk-toggleable__label {background-color: #d4ebff;}#sk-container-id-1 div.sk-serial::before {content: \"\";position: absolute;border-left: 1px solid gray;box-sizing: border-box;top: 0;bottom: 0;left: 50%;z-index: 0;}#sk-container-id-1 div.sk-serial {display: flex;flex-direction: column;align-items: center;background-color: white;padding-right: 0.2em;padding-left: 0.2em;position: relative;}#sk-container-id-1 div.sk-item {position: relative;z-index: 1;}#sk-container-id-1 div.sk-parallel {display: flex;align-items: stretch;justify-content: center;background-color: white;position: relative;}#sk-container-id-1 div.sk-item::before, #sk-container-id-1 div.sk-parallel-item::before {content: \"\";position: absolute;border-left: 1px solid gray;box-sizing: border-box;top: 0;bottom: 0;left: 50%;z-index: -1;}#sk-container-id-1 div.sk-parallel-item {display: flex;flex-direction: column;z-index: 1;position: relative;background-color: white;}#sk-container-id-1 div.sk-parallel-item:first-child::after {align-self: flex-end;width: 50%;}#sk-container-id-1 div.sk-parallel-item:last-child::after {align-self: flex-start;width: 50%;}#sk-container-id-1 div.sk-parallel-item:only-child::after {width: 0;}#sk-container-id-1 div.sk-dashed-wrapped {border: 1px dashed gray;margin: 0 0.4em 0.5em 0.4em;box-sizing: border-box;padding-bottom: 0.4em;background-color: white;}#sk-container-id-1 div.sk-label label {font-family: monospace;font-weight: bold;display: inline-block;line-height: 1.2em;}#sk-container-id-1 div.sk-label-container {text-align: center;}#sk-container-id-1 div.sk-container {/* jupyter's `normalize.less` sets `[hidden] { display: none; }` but bootstrap.min.css set `[hidden] { display: none !important; }` so we also need the `!important` here to be able to override the default hidden behavior on the sphinx rendered scikit-learn.org. See: https://github.com/scikit-learn/scikit-learn/issues/21755 */display: inline-block !important;position: relative;}#sk-container-id-1 div.sk-text-repr-fallback {display: none;}</style><div id=\"sk-container-id-1\" class=\"sk-top-container\"><div class=\"sk-text-repr-fallback\"><pre>LogisticRegression(max_iter=1000)</pre><b>In a Jupyter environment, please rerun this cell to show the HTML representation or trust the notebook. <br />On GitHub, the HTML representation is unable to render, please try loading this page with nbviewer.org.</b></div><div class=\"sk-container\" hidden><div class=\"sk-item\"><div class=\"sk-estimator sk-toggleable\"><input class=\"sk-toggleable__control sk-hidden--visually\" id=\"sk-estimator-id-1\" type=\"checkbox\" checked><label for=\"sk-estimator-id-1\" class=\"sk-toggleable__label sk-toggleable__label-arrow\">LogisticRegression</label><div class=\"sk-toggleable__content\"><pre>LogisticRegression(max_iter=1000)</pre></div></div></div></div></div>"
      ],
      "text/plain": [
       "LogisticRegression(max_iter=1000)"
      ]
     },
     "execution_count": 161,
     "metadata": {},
     "output_type": "execute_result"
    }
   ],
   "source": [
    "lr.fit(X, y)"
   ]
  },
  {
   "cell_type": "markdown",
   "id": "b7b8067b",
   "metadata": {},
   "source": [
    "Because I'm having some issues with memory on my end and my kernel seems to restart every 30 mins or so, I will export the trained model so it can be loaded at a later time to predit.  \n",
    "The issue is not likely to pursue on other devices since I'm working with a limited memory allocation."
   ]
  },
  {
   "cell_type": "code",
   "execution_count": 162,
   "id": "fa7e4f39",
   "metadata": {},
   "outputs": [
    {
     "data": {
      "text/plain": [
       "['lr_fashionMNIST.pkl']"
      ]
     },
     "execution_count": 162,
     "metadata": {},
     "output_type": "execute_result"
    }
   ],
   "source": [
    "import joblib\n",
    "joblib.dump(lr, 'lr_fashionMNIST.pkl')"
   ]
  },
  {
   "cell_type": "code",
   "execution_count": 163,
   "id": "83b88f18",
   "metadata": {},
   "outputs": [],
   "source": [
    "# # load the model directly for testing\n",
    "# import joblib\n",
    "# lr = joblib.load('lr_fashionMNIST.pkl')"
   ]
  },
  {
   "cell_type": "markdown",
   "id": "f0d238f3",
   "metadata": {},
   "source": [
    "<b>6.7 Predicting on unseen data : </b>"
   ]
  },
  {
   "cell_type": "code",
   "execution_count": 164,
   "id": "b3c20887",
   "metadata": {},
   "outputs": [],
   "source": [
    "y_pred = lr.predict(testX) "
   ]
  },
  {
   "cell_type": "code",
   "execution_count": 165,
   "id": "b0a47234",
   "metadata": {},
   "outputs": [
    {
     "name": "stdout",
     "output_type": "stream",
     "text": [
      "0.8531\n"
     ]
    }
   ],
   "source": [
    "score = lr.score(testX, testY)\n",
    "print(score)"
   ]
  },
  {
   "cell_type": "markdown",
   "id": "2a18ceef",
   "metadata": {},
   "source": [
    "# 7. Classification Report"
   ]
  },
  {
   "cell_type": "markdown",
   "id": "47379231",
   "metadata": {},
   "source": [
    "<b>7.1 Confusion Matrix : </b> A confusion matrix is crucial to check how well a model performs when it's introduced to unseen test \n",
    "    data. It provides us with the model's class wise accuracy. Each column of the matrix represents a class and each row represents the prediction count, thus every well-performing model \n",
    "    has compratively larger values along the top-left to bottom right-diagonal."
   ]
  },
  {
   "cell_type": "code",
   "execution_count": 166,
   "id": "2239db68",
   "metadata": {},
   "outputs": [
    {
     "data": {
      "text/plain": [
       "array([[818,   1,  24,  34,   3,   0, 152,   0,   6,   0],\n",
       "       [  2, 972,   3,  28,   2,   4,   5,   0,   2,   0],\n",
       "       [ 15,   3, 754,  16,  80,   1,  96,   0,   6,   0],\n",
       "       [ 40,  15,  10, 861,  29,   0,  37,   0,   7,   0],\n",
       "       [  0,   1, 105,  28, 805,   0,  89,   0,   4,   0],\n",
       "       [  4,   2,   0,   2,   0, 914,   0,  35,   6,  15],\n",
       "       [106,   6,  95,  23,  77,   1, 605,   0,  22,   0],\n",
       "       [  0,   0,   0,   1,   0,  50,   0, 917,   5,  40],\n",
       "       [ 15,   0,   9,   7,   4,   3,  16,   2, 940,   0],\n",
       "       [  0,   0,   0,   0,   0,  27,   0,  46,   2, 945]], dtype=int64)"
      ]
     },
     "execution_count": 166,
     "metadata": {},
     "output_type": "execute_result"
    }
   ],
   "source": [
    "# confusion matrix\n",
    "conf = confusion_matrix(y_pred, testY)\n",
    "conf"
   ]
  },
  {
   "cell_type": "code",
   "execution_count": 167,
   "id": "605e6278",
   "metadata": {},
   "outputs": [
    {
     "data": {
      "text/plain": [
       "label\n",
       "0    1000\n",
       "1    1000\n",
       "2    1000\n",
       "3    1000\n",
       "4    1000\n",
       "5    1000\n",
       "6    1000\n",
       "7    1000\n",
       "8    1000\n",
       "9    1000\n",
       "Name: label, dtype: int64"
      ]
     },
     "execution_count": 167,
     "metadata": {},
     "output_type": "execute_result"
    }
   ],
   "source": [
    "df_test.groupby([\"label\"])[\"label\"].count()"
   ]
  },
  {
   "cell_type": "markdown",
   "id": "46f8a0a0",
   "metadata": {},
   "source": [
    "<b>7.2 Visualise Correct Prediction : </b>Using the distribution counts from the test set and class wise prediction counts from confusion matrix, we can print the class wise \n",
    "accuracy of the model. The formula is -  \n",
    "<i><center>(Correctly predicted class count / Total class count) * 100</center></i>"
   ]
  },
  {
   "cell_type": "code",
   "execution_count": 168,
   "id": "af0e50a3",
   "metadata": {},
   "outputs": [
    {
     "name": "stdout",
     "output_type": "stream",
     "text": [
      "T-shirt/top class accuracy is 81.8\n",
      "Trouser class accuracy is 97.2\n",
      "Pullover class accuracy is 75.4\n",
      "Dress class accuracy is 86.1\n",
      "Coat class accuracy is 80.5\n",
      "Sandal class accuracy is 91.4\n",
      "Shirt class accuracy is 60.5\n",
      "Sneaker class accuracy is 91.7\n",
      "Bag class accuracy is 94.0\n",
      "Ankle boot class accuracy is 94.5\n"
     ]
    }
   ],
   "source": [
    "#class wise accuracy\n",
    "for i in range(conf.shape[0]):\n",
    "    print(f'{mapping[i]} class accuracy is {conf[i][i]/10}')"
   ]
  },
  {
   "cell_type": "markdown",
   "id": "d8ae192b",
   "metadata": {},
   "source": [
    "Visualising a few correctly predicted images."
   ]
  },
  {
   "cell_type": "code",
   "execution_count": 169,
   "id": "ec70b860",
   "metadata": {},
   "outputs": [
    {
     "data": {
      "text/plain": [
       "(8531, 786)"
      ]
     },
     "execution_count": 169,
     "metadata": {},
     "output_type": "execute_result"
    }
   ],
   "source": [
    "correct_classified = df_test\n",
    "correct_classified.insert(0, \"label_pred\", y_pred)\n",
    "correct_classified = correct_classified[correct_classified[\"label\"] == correct_classified[\"label_pred\"]]\n",
    "correct_classified = correct_classified.replace({\"label\" : mapping})\n",
    "correct_classified = correct_classified.replace({\"label_pred\" : mapping})\n",
    "correct_classified.shape"
   ]
  },
  {
   "cell_type": "code",
   "execution_count": 177,
   "id": "f2513b6b",
   "metadata": {},
   "outputs": [
    {
     "data": {
      "image/png": "[encoded data removed]",
      "text/plain": [
       "<Figure size 640x480 with 5 Axes>"
      ]
     },
     "metadata": {},
     "output_type": "display_data"
    }
   ],
   "source": [
    "# we will show 5 correctly predicted images\n",
    "#show the images\n",
    "for i in range(5):  # Start the loop at index 0\n",
    "    # getting 28x28 matrix that will represent the image\n",
    "    img = correct_classified.iloc[:, 2:786].values[i].reshape(28, 28)  \n",
    "    # Adjust the subplot index\n",
    "    plt.subplot(3, 2, i + 1)   \n",
    "    plt.imshow(img, cmap='gray')\n",
    "    plt.title(f\"{i + 1}. Actual : {correct_classified.iloc[i, 1]}, Predicted : {correct_classified.iloc[i, 0]}\")\n",
    "\n",
    "# Adjust the spacing\n",
    "plt.subplots_adjust(wspace=2, hspace=1.5)\n",
    "plt.show()"
   ]
  },
  {
   "cell_type": "markdown",
   "id": "fe9a150b",
   "metadata": {},
   "source": [
    "<b>7.3 Visualise misclassified images</b>"
   ]
  },
  {
   "cell_type": "code",
   "execution_count": 178,
   "id": "a44e206b",
   "metadata": {},
   "outputs": [],
   "source": [
    "#visualise misclassified images\n",
    "misclassified = pd.read_csv(\"fashion_MNIST/fashion-mnist_test.csv\")\n",
    "misclassified.insert(0, \"label_pred\", y_pred)\n",
    "misclassified = misclassified[misclassified['label'] != misclassified['label_pred']]"
   ]
  },
  {
   "cell_type": "code",
   "execution_count": 179,
   "id": "56348174",
   "metadata": {},
   "outputs": [
    {
     "data": {
      "text/html": [
       "<div>\n",
       "<style scoped>\n",
       "    .dataframe tbody tr th:only-of-type {\n",
       "        vertical-align: middle;\n",
       "    }\n",
       "\n",
       "    .dataframe tbody tr th {\n",
       "        vertical-align: top;\n",
       "    }\n",
       "\n",
       "    .dataframe thead th {\n",
       "        text-align: right;\n",
       "    }\n",
       "</style>\n",
       "<table border=\"1\" class=\"dataframe\">\n",
       "  <thead>\n",
       "    <tr style=\"text-align: right;\">\n",
       "      <th></th>\n",
       "      <th>label_pred</th>\n",
       "      <th>label</th>\n",
       "      <th>pixel1</th>\n",
       "      <th>pixel2</th>\n",
       "      <th>pixel3</th>\n",
       "      <th>pixel4</th>\n",
       "      <th>pixel5</th>\n",
       "      <th>pixel6</th>\n",
       "      <th>pixel7</th>\n",
       "      <th>pixel8</th>\n",
       "      <th>...</th>\n",
       "      <th>pixel775</th>\n",
       "      <th>pixel776</th>\n",
       "      <th>pixel777</th>\n",
       "      <th>pixel778</th>\n",
       "      <th>pixel779</th>\n",
       "      <th>pixel780</th>\n",
       "      <th>pixel781</th>\n",
       "      <th>pixel782</th>\n",
       "      <th>pixel783</th>\n",
       "      <th>pixel784</th>\n",
       "    </tr>\n",
       "  </thead>\n",
       "  <tbody>\n",
       "    <tr>\n",
       "      <th>4</th>\n",
       "      <td>Coat</td>\n",
       "      <td>Dress</td>\n",
       "      <td>0</td>\n",
       "      <td>0</td>\n",
       "      <td>0</td>\n",
       "      <td>0</td>\n",
       "      <td>0</td>\n",
       "      <td>0</td>\n",
       "      <td>0</td>\n",
       "      <td>0</td>\n",
       "      <td>...</td>\n",
       "      <td>0</td>\n",
       "      <td>0</td>\n",
       "      <td>0</td>\n",
       "      <td>0</td>\n",
       "      <td>0</td>\n",
       "      <td>0</td>\n",
       "      <td>0</td>\n",
       "      <td>0</td>\n",
       "      <td>0</td>\n",
       "      <td>0</td>\n",
       "    </tr>\n",
       "    <tr>\n",
       "      <th>5</th>\n",
       "      <td>T-shirt/top</td>\n",
       "      <td>Pullover</td>\n",
       "      <td>0</td>\n",
       "      <td>0</td>\n",
       "      <td>0</td>\n",
       "      <td>0</td>\n",
       "      <td>0</td>\n",
       "      <td>44</td>\n",
       "      <td>105</td>\n",
       "      <td>44</td>\n",
       "      <td>...</td>\n",
       "      <td>105</td>\n",
       "      <td>64</td>\n",
       "      <td>30</td>\n",
       "      <td>0</td>\n",
       "      <td>0</td>\n",
       "      <td>0</td>\n",
       "      <td>0</td>\n",
       "      <td>0</td>\n",
       "      <td>0</td>\n",
       "      <td>0</td>\n",
       "    </tr>\n",
       "    <tr>\n",
       "      <th>12</th>\n",
       "      <td>Shirt</td>\n",
       "      <td>Coat</td>\n",
       "      <td>0</td>\n",
       "      <td>0</td>\n",
       "      <td>0</td>\n",
       "      <td>0</td>\n",
       "      <td>0</td>\n",
       "      <td>0</td>\n",
       "      <td>0</td>\n",
       "      <td>0</td>\n",
       "      <td>...</td>\n",
       "      <td>118</td>\n",
       "      <td>73</td>\n",
       "      <td>0</td>\n",
       "      <td>164</td>\n",
       "      <td>225</td>\n",
       "      <td>123</td>\n",
       "      <td>0</td>\n",
       "      <td>0</td>\n",
       "      <td>0</td>\n",
       "      <td>0</td>\n",
       "    </tr>\n",
       "    <tr>\n",
       "      <th>16</th>\n",
       "      <td>Coat</td>\n",
       "      <td>Shirt</td>\n",
       "      <td>0</td>\n",
       "      <td>0</td>\n",
       "      <td>0</td>\n",
       "      <td>0</td>\n",
       "      <td>0</td>\n",
       "      <td>0</td>\n",
       "      <td>1</td>\n",
       "      <td>5</td>\n",
       "      <td>...</td>\n",
       "      <td>90</td>\n",
       "      <td>60</td>\n",
       "      <td>0</td>\n",
       "      <td>129</td>\n",
       "      <td>146</td>\n",
       "      <td>78</td>\n",
       "      <td>0</td>\n",
       "      <td>0</td>\n",
       "      <td>0</td>\n",
       "      <td>0</td>\n",
       "    </tr>\n",
       "    <tr>\n",
       "      <th>30</th>\n",
       "      <td>Sneaker</td>\n",
       "      <td>Sandal</td>\n",
       "      <td>0</td>\n",
       "      <td>0</td>\n",
       "      <td>0</td>\n",
       "      <td>0</td>\n",
       "      <td>0</td>\n",
       "      <td>0</td>\n",
       "      <td>0</td>\n",
       "      <td>0</td>\n",
       "      <td>...</td>\n",
       "      <td>0</td>\n",
       "      <td>0</td>\n",
       "      <td>0</td>\n",
       "      <td>0</td>\n",
       "      <td>0</td>\n",
       "      <td>0</td>\n",
       "      <td>0</td>\n",
       "      <td>0</td>\n",
       "      <td>0</td>\n",
       "      <td>0</td>\n",
       "    </tr>\n",
       "    <tr>\n",
       "      <th>...</th>\n",
       "      <td>...</td>\n",
       "      <td>...</td>\n",
       "      <td>...</td>\n",
       "      <td>...</td>\n",
       "      <td>...</td>\n",
       "      <td>...</td>\n",
       "      <td>...</td>\n",
       "      <td>...</td>\n",
       "      <td>...</td>\n",
       "      <td>...</td>\n",
       "      <td>...</td>\n",
       "      <td>...</td>\n",
       "      <td>...</td>\n",
       "      <td>...</td>\n",
       "      <td>...</td>\n",
       "      <td>...</td>\n",
       "      <td>...</td>\n",
       "      <td>...</td>\n",
       "      <td>...</td>\n",
       "      <td>...</td>\n",
       "      <td>...</td>\n",
       "    </tr>\n",
       "    <tr>\n",
       "      <th>9964</th>\n",
       "      <td>Pullover</td>\n",
       "      <td>Coat</td>\n",
       "      <td>0</td>\n",
       "      <td>0</td>\n",
       "      <td>0</td>\n",
       "      <td>0</td>\n",
       "      <td>0</td>\n",
       "      <td>0</td>\n",
       "      <td>1</td>\n",
       "      <td>0</td>\n",
       "      <td>...</td>\n",
       "      <td>0</td>\n",
       "      <td>0</td>\n",
       "      <td>0</td>\n",
       "      <td>84</td>\n",
       "      <td>113</td>\n",
       "      <td>52</td>\n",
       "      <td>0</td>\n",
       "      <td>0</td>\n",
       "      <td>0</td>\n",
       "      <td>0</td>\n",
       "    </tr>\n",
       "    <tr>\n",
       "      <th>9986</th>\n",
       "      <td>Bag</td>\n",
       "      <td>T-shirt/top</td>\n",
       "      <td>0</td>\n",
       "      <td>0</td>\n",
       "      <td>0</td>\n",
       "      <td>0</td>\n",
       "      <td>2</td>\n",
       "      <td>0</td>\n",
       "      <td>2</td>\n",
       "      <td>0</td>\n",
       "      <td>...</td>\n",
       "      <td>7</td>\n",
       "      <td>0</td>\n",
       "      <td>0</td>\n",
       "      <td>1</td>\n",
       "      <td>0</td>\n",
       "      <td>1</td>\n",
       "      <td>1</td>\n",
       "      <td>0</td>\n",
       "      <td>1</td>\n",
       "      <td>0</td>\n",
       "    </tr>\n",
       "    <tr>\n",
       "      <th>9994</th>\n",
       "      <td>Shirt</td>\n",
       "      <td>T-shirt/top</td>\n",
       "      <td>0</td>\n",
       "      <td>0</td>\n",
       "      <td>0</td>\n",
       "      <td>0</td>\n",
       "      <td>0</td>\n",
       "      <td>0</td>\n",
       "      <td>0</td>\n",
       "      <td>1</td>\n",
       "      <td>...</td>\n",
       "      <td>85</td>\n",
       "      <td>67</td>\n",
       "      <td>114</td>\n",
       "      <td>51</td>\n",
       "      <td>0</td>\n",
       "      <td>1</td>\n",
       "      <td>0</td>\n",
       "      <td>0</td>\n",
       "      <td>0</td>\n",
       "      <td>0</td>\n",
       "    </tr>\n",
       "    <tr>\n",
       "      <th>9998</th>\n",
       "      <td>Shirt</td>\n",
       "      <td>Bag</td>\n",
       "      <td>0</td>\n",
       "      <td>1</td>\n",
       "      <td>3</td>\n",
       "      <td>0</td>\n",
       "      <td>0</td>\n",
       "      <td>0</td>\n",
       "      <td>0</td>\n",
       "      <td>0</td>\n",
       "      <td>...</td>\n",
       "      <td>0</td>\n",
       "      <td>0</td>\n",
       "      <td>0</td>\n",
       "      <td>0</td>\n",
       "      <td>0</td>\n",
       "      <td>1</td>\n",
       "      <td>0</td>\n",
       "      <td>0</td>\n",
       "      <td>0</td>\n",
       "      <td>0</td>\n",
       "    </tr>\n",
       "    <tr>\n",
       "      <th>9999</th>\n",
       "      <td>Pullover</td>\n",
       "      <td>Trouser</td>\n",
       "      <td>0</td>\n",
       "      <td>0</td>\n",
       "      <td>0</td>\n",
       "      <td>0</td>\n",
       "      <td>0</td>\n",
       "      <td>0</td>\n",
       "      <td>0</td>\n",
       "      <td>140</td>\n",
       "      <td>...</td>\n",
       "      <td>111</td>\n",
       "      <td>95</td>\n",
       "      <td>75</td>\n",
       "      <td>44</td>\n",
       "      <td>1</td>\n",
       "      <td>0</td>\n",
       "      <td>0</td>\n",
       "      <td>0</td>\n",
       "      <td>0</td>\n",
       "      <td>0</td>\n",
       "    </tr>\n",
       "  </tbody>\n",
       "</table>\n",
       "<p>1469 rows × 786 columns</p>\n",
       "</div>"
      ],
      "text/plain": [
       "       label_pred        label  pixel1  pixel2  pixel3  pixel4  pixel5  \\\n",
       "4            Coat        Dress       0       0       0       0       0   \n",
       "5     T-shirt/top     Pullover       0       0       0       0       0   \n",
       "12          Shirt         Coat       0       0       0       0       0   \n",
       "16           Coat        Shirt       0       0       0       0       0   \n",
       "30        Sneaker       Sandal       0       0       0       0       0   \n",
       "...           ...          ...     ...     ...     ...     ...     ...   \n",
       "9964     Pullover         Coat       0       0       0       0       0   \n",
       "9986          Bag  T-shirt/top       0       0       0       0       2   \n",
       "9994        Shirt  T-shirt/top       0       0       0       0       0   \n",
       "9998        Shirt          Bag       0       1       3       0       0   \n",
       "9999     Pullover      Trouser       0       0       0       0       0   \n",
       "\n",
       "      pixel6  pixel7  pixel8  ...  pixel775  pixel776  pixel777  pixel778  \\\n",
       "4          0       0       0  ...         0         0         0         0   \n",
       "5         44     105      44  ...       105        64        30         0   \n",
       "12         0       0       0  ...       118        73         0       164   \n",
       "16         0       1       5  ...        90        60         0       129   \n",
       "30         0       0       0  ...         0         0         0         0   \n",
       "...      ...     ...     ...  ...       ...       ...       ...       ...   \n",
       "9964       0       1       0  ...         0         0         0        84   \n",
       "9986       0       2       0  ...         7         0         0         1   \n",
       "9994       0       0       1  ...        85        67       114        51   \n",
       "9998       0       0       0  ...         0         0         0         0   \n",
       "9999       0       0     140  ...       111        95        75        44   \n",
       "\n",
       "      pixel779  pixel780  pixel781  pixel782  pixel783  pixel784  \n",
       "4            0         0         0         0         0         0  \n",
       "5            0         0         0         0         0         0  \n",
       "12         225       123         0         0         0         0  \n",
       "16         146        78         0         0         0         0  \n",
       "30           0         0         0         0         0         0  \n",
       "...        ...       ...       ...       ...       ...       ...  \n",
       "9964       113        52         0         0         0         0  \n",
       "9986         0         1         1         0         1         0  \n",
       "9994         0         1         0         0         0         0  \n",
       "9998         0         1         0         0         0         0  \n",
       "9999         1         0         0         0         0         0  \n",
       "\n",
       "[1469 rows x 786 columns]"
      ]
     },
     "execution_count": 179,
     "metadata": {},
     "output_type": "execute_result"
    }
   ],
   "source": [
    "#show the images\n",
    "misclassified = misclassified.replace({\"label\" : mapping})\n",
    "misclassified = misclassified.replace({\"label_pred\" : mapping})\n",
    "misclassified"
   ]
  },
  {
   "cell_type": "code",
   "execution_count": 180,
   "id": "3f49ee6c",
   "metadata": {},
   "outputs": [
    {
     "data": {
      "text/plain": [
       "(1469, 786)"
      ]
     },
     "execution_count": 180,
     "metadata": {},
     "output_type": "execute_result"
    }
   ],
   "source": [
    "misclassified.shape"
   ]
  },
  {
   "cell_type": "code",
   "execution_count": 181,
   "id": "383c11c1",
   "metadata": {},
   "outputs": [
    {
     "data": {
      "image/png": "[encoded data removed]",
      "text/plain": [
       "<Figure size 640x480 with 1 Axes>"
      ]
     },
     "metadata": {},
     "output_type": "display_data"
    },
    {
     "data": {
      "image/png": "[encoded data removed]",
      "text/plain": [
       "<Figure size 640x480 with 1 Axes>"
      ]
     },
     "metadata": {},
     "output_type": "display_data"
    },
    {
     "data": {
      "image/png": "[encoded data removed]",
      "text/plain": [
       "<Figure size 640x480 with 1 Axes>"
      ]
     },
     "metadata": {},
     "output_type": "display_data"
    },
    {
     "data": {
      "image/png": "[encoded data removed]",
      "text/plain": [
       "<Figure size 640x480 with 1 Axes>"
      ]
     },
     "metadata": {},
     "output_type": "display_data"
    },
    {
     "data": {
      "image/png": "[encoded data removed]",
      "text/plain": [
       "<Figure size 640x480 with 1 Axes>"
      ]
     },
     "metadata": {},
     "output_type": "display_data"
    }
   ],
   "source": [
    "#showing 5 of the misclassified images\n",
    "for i in range(5):\n",
    "    # getting 28x28 matrix that will represent the image\n",
    "    img = misclassified.iloc[:, 2:786].values[i].reshape(28,28)\n",
    "    plt.subplot(3, 2, i + 1)\n",
    "    plt.imshow(img, cmap='gray')\n",
    "    plt.title(f\"{i+1}. Actual : {misclassified.iloc[i,1]}, Predicted : {misclassified.iloc[i, 0]}\")\n",
    "    plt.show()\n",
    "# not doing a sub plot for this"
   ]
  },
  {
   "cell_type": "markdown",
   "id": "b44b97de",
   "metadata": {},
   "source": [
    "<b>7.4 Visualise corrected images </b>"
   ]
  },
  {
   "cell_type": "markdown",
   "id": "bbe51a97",
   "metadata": {},
   "source": [
    "The model only predicted the possible classes for the test dataset rather than correcting the dataset.  \n",
    "We can compare the results by vusalising a few correct and incorrect predictions.  \n",
    "A few examples are - "
   ]
  },
  {
   "cell_type": "code",
   "execution_count": 182,
   "id": "6832ef03",
   "metadata": {},
   "outputs": [
    {
     "data": {
      "image/png": "[encoded data removed]",
      "text/plain": [
       "<Figure size 1400x1000 with 10 Axes>"
      ]
     },
     "metadata": {},
     "output_type": "display_data"
    }
   ],
   "source": [
    "index = 0\n",
    "\n",
    "# single figure outside the loop\n",
    "fig = plt.figure(figsize=(14, 10))\n",
    "plt.suptitle(\"Example of Correct and Misclassified Images\", fontsize=18, y = 1.1)\n",
    "\n",
    "# column names\n",
    "plt.figtext(0.3, 1.01, 'Correctly Classified', fontsize=16, ha='center', color = \"green\")\n",
    "plt.figtext(0.7, 1.01, 'Misclassified', fontsize=16, ha='center', color = \"red\")\n",
    "\n",
    "for i in range(5): \n",
    "    # correct\n",
    "    img = correct_classified.iloc[:, 2:786].values[correct_classified.shape[0] - 5 + i].reshape(28, 28)\n",
    "    index = index + 1\n",
    "    plt.subplot(5, 2, index)   \n",
    "    plt.imshow(img, cmap='gray')\n",
    "    plt.title(f\"{i + 1}. Actual : {correct_classified.iloc[correct_classified.shape[0] - 5 + i, 1]}, Predicted : {correct_classified.iloc[correct_classified.shape[0] - 5 + i, 0]}\")\n",
    "    \n",
    "    # incorrect\n",
    "    img = misclassified.iloc[:, 2:786].values[misclassified.shape[0] - 5 + i].reshape(28,28)\n",
    "    index = index + 1\n",
    "    plt.subplot(5, 2, index)\n",
    "    plt.imshow(img, cmap='gray')\n",
    "    plt.title(f\"{i+1}. Actual : {misclassified.iloc[misclassified.shape[0] - 5 + i, 1]}, Predicted : {misclassified.iloc[misclassified.shape[0] - 5 + i, 0]}\")\n",
    "\n",
    "plt.tight_layout()\n",
    "plt.show()\n"
   ]
  },
  {
   "cell_type": "markdown",
   "id": "5eccbaf5",
   "metadata": {},
   "source": [
    "Logistic regression relies on feature representations of the data and in the Fashion_MNIST dataset, the pixels represent features. If the features do not adequately capture the distinguishing characteristics of the different classes or if there is a lot of noise in the feature data, the model may not perform well. In the dataset shirts, pullovers and sometimes t-shirts can be visually similar, making it challenging for a simple model like logistic regression to distinguish between them accurately.  \n",
    "Also images with non-regular characterstics like Misclassified(2) can be challenging since the image contains images of 2 t-shirts together, making it harder for the model if it has not seen similar images before. Also features like collar are present for both tops and shirts which can lead to misclassification."
   ]
  },
  {
   "cell_type": "markdown",
   "id": "14c3e30f",
   "metadata": {},
   "source": [
    "# 8. Regularization\n",
    "Regularization is a technique used in machine learning to prevent overfitting, which occurs when a model fits the training data too closely and performs poorly on unseen data.  \n",
    "In logistic regression, regularization is used to constrain the coefficients (weights) associated with each feature to prevent them from becoming too large, by introducing a penalty term to the cost function. Essentially, large coefficients can make the model highly sensitive to small changes in the dataset, leading to poor accuracy and generalisation. The penalty term penalizes the complexity of the model by adding a term to the cost function based on the magnitude of the coefficients.  \n",
    "There are two common types of regularization in logistic regression: L1 regularization (Lasso) and L2 regularization (Ridge).  \n",
    "  \n",
    "<b>L1 Regularization (Lasso): </b>\n",
    "L1 regularization adds a penalty term that is proportional to the absolute values of the coefficients. This approach tends to push the coefficients of the irrelevant features to 0, which helps feature selection, simplifies the model and prevents overfitting.\n",
    "The cost function for L1 regularization is:\n",
    "<center><i>Cost = Original_Cost + λ * Σ|θ_i|</i></center>\n",
    "  \n",
    "\n",
    "<b>Original_Cost</b> is the original logistic regression cost.  \n",
    "<b>λ</b> is the regularization parameter, which controls the strength of regularization.  \n",
    "<b>θ_i</b> are the coefficients associated with each feature.  \n",
    "\n",
    "<b>L2 Regularization (Ridge): </b>L2 regularization adds a penalty term to the cost function that is proportional to the square of the coefficients. This approach encourages all features to be small but not exactly 0, which prevents the model from being largely influenced by one particular feature. The cost function for L2 regularization is:\n",
    "<center><i>Cost = Original_Cost + λ * Σ(θ_i^2)</i></center>\n",
    "  \n",
    "<b>Original_Cost</b> is the original logistic regression cost.  \n",
    "<b>λ</b> is the regularization parameter, which controls the strength of regularization.  \n",
    "<b>θ_i</b> are the coefficients associated with each feature.  "
   ]
  },
  {
   "cell_type": "markdown",
   "id": "663b952b",
   "metadata": {},
   "source": [
    "To add L1 or L2 regularization, we can use the following code snippet-"
   ]
  },
  {
   "cell_type": "markdown",
   "id": "6fe95339",
   "metadata": {},
   "source": [
    "```\n",
    "# for L1 lasso\n",
    "lr = LogisticRegression(penalty='l1', solver='solver_function', C=1.0)\n",
    "# for L2 Ridge\n",
    "lr = LogisticRegression(penalty='l2', solver='solver_function', C=1.0)\n",
    "```"
   ]
  },
  {
   "cell_type": "markdown",
   "id": "b475a9f1",
   "metadata": {},
   "source": [
    "<b>penalty='l1'</b> or <b>penalty='l2'</b> specifies the regularization technique L1 or L2.  \n",
    "<b>solver = \"solver_function\"</b> the solver function for the model e.g. lbfgs, liblinear.  \n",
    "<b>C=1.0</b> is the regularization strength parameter. A smaller C value increases the strength of regularization, which means the model will be more constrained by the penalty. Smaller C values lead to stronger regularization."
   ]
  },
  {
   "cell_type": "markdown",
   "id": "9710a895",
   "metadata": {},
   "source": [
    "# 9. Saving the model"
   ]
  },
  {
   "cell_type": "markdown",
   "id": "28d77358",
   "metadata": {},
   "source": [
    "JobLib can be used to save the model as a pkl file. Since I have alreay saved the model, I will add the code as a snippet.  \n",
    "```\n",
    "import joblib\n",
    "joblib.dump(lr, 'lr_fashionMNIST.pkl')\n",
    "```"
   ]
  },
  {
   "cell_type": "markdown",
   "id": "aef9db82",
   "metadata": {},
   "source": [
    "Loading the model-"
   ]
  },
  {
   "cell_type": "code",
   "execution_count": 183,
   "id": "5f731e30",
   "metadata": {},
   "outputs": [
    {
     "data": {
      "text/html": [
       "<style>#sk-container-id-3 {color: black;}#sk-container-id-3 pre{padding: 0;}#sk-container-id-3 div.sk-toggleable {background-color: white;}#sk-container-id-3 label.sk-toggleable__label {cursor: pointer;display: block;width: 100%;margin-bottom: 0;padding: 0.3em;box-sizing: border-box;text-align: center;}#sk-container-id-3 label.sk-toggleable__label-arrow:before {content: \"▸\";float: left;margin-right: 0.25em;color: #696969;}#sk-container-id-3 label.sk-toggleable__label-arrow:hover:before {color: black;}#sk-container-id-3 div.sk-estimator:hover label.sk-toggleable__label-arrow:before {color: black;}#sk-container-id-3 div.sk-toggleable__content {max-height: 0;max-width: 0;overflow: hidden;text-align: left;background-color: #f0f8ff;}#sk-container-id-3 div.sk-toggleable__content pre {margin: 0.2em;color: black;border-radius: 0.25em;background-color: #f0f8ff;}#sk-container-id-3 input.sk-toggleable__control:checked~div.sk-toggleable__content {max-height: 200px;max-width: 100%;overflow: auto;}#sk-container-id-3 input.sk-toggleable__control:checked~label.sk-toggleable__label-arrow:before {content: \"▾\";}#sk-container-id-3 div.sk-estimator input.sk-toggleable__control:checked~label.sk-toggleable__label {background-color: #d4ebff;}#sk-container-id-3 div.sk-label input.sk-toggleable__control:checked~label.sk-toggleable__label {background-color: #d4ebff;}#sk-container-id-3 input.sk-hidden--visually {border: 0;clip: rect(1px 1px 1px 1px);clip: rect(1px, 1px, 1px, 1px);height: 1px;margin: -1px;overflow: hidden;padding: 0;position: absolute;width: 1px;}#sk-container-id-3 div.sk-estimator {font-family: monospace;background-color: #f0f8ff;border: 1px dotted black;border-radius: 0.25em;box-sizing: border-box;margin-bottom: 0.5em;}#sk-container-id-3 div.sk-estimator:hover {background-color: #d4ebff;}#sk-container-id-3 div.sk-parallel-item::after {content: \"\";width: 100%;border-bottom: 1px solid gray;flex-grow: 1;}#sk-container-id-3 div.sk-label:hover label.sk-toggleable__label {background-color: #d4ebff;}#sk-container-id-3 div.sk-serial::before {content: \"\";position: absolute;border-left: 1px solid gray;box-sizing: border-box;top: 0;bottom: 0;left: 50%;z-index: 0;}#sk-container-id-3 div.sk-serial {display: flex;flex-direction: column;align-items: center;background-color: white;padding-right: 0.2em;padding-left: 0.2em;position: relative;}#sk-container-id-3 div.sk-item {position: relative;z-index: 1;}#sk-container-id-3 div.sk-parallel {display: flex;align-items: stretch;justify-content: center;background-color: white;position: relative;}#sk-container-id-3 div.sk-item::before, #sk-container-id-3 div.sk-parallel-item::before {content: \"\";position: absolute;border-left: 1px solid gray;box-sizing: border-box;top: 0;bottom: 0;left: 50%;z-index: -1;}#sk-container-id-3 div.sk-parallel-item {display: flex;flex-direction: column;z-index: 1;position: relative;background-color: white;}#sk-container-id-3 div.sk-parallel-item:first-child::after {align-self: flex-end;width: 50%;}#sk-container-id-3 div.sk-parallel-item:last-child::after {align-self: flex-start;width: 50%;}#sk-container-id-3 div.sk-parallel-item:only-child::after {width: 0;}#sk-container-id-3 div.sk-dashed-wrapped {border: 1px dashed gray;margin: 0 0.4em 0.5em 0.4em;box-sizing: border-box;padding-bottom: 0.4em;background-color: white;}#sk-container-id-3 div.sk-label label {font-family: monospace;font-weight: bold;display: inline-block;line-height: 1.2em;}#sk-container-id-3 div.sk-label-container {text-align: center;}#sk-container-id-3 div.sk-container {/* jupyter's `normalize.less` sets `[hidden] { display: none; }` but bootstrap.min.css set `[hidden] { display: none !important; }` so we also need the `!important` here to be able to override the default hidden behavior on the sphinx rendered scikit-learn.org. See: https://github.com/scikit-learn/scikit-learn/issues/21755 */display: inline-block !important;position: relative;}#sk-container-id-3 div.sk-text-repr-fallback {display: none;}</style><div id=\"sk-container-id-3\" class=\"sk-top-container\"><div class=\"sk-text-repr-fallback\"><pre>LogisticRegression(max_iter=1000)</pre><b>In a Jupyter environment, please rerun this cell to show the HTML representation or trust the notebook. <br />On GitHub, the HTML representation is unable to render, please try loading this page with nbviewer.org.</b></div><div class=\"sk-container\" hidden><div class=\"sk-item\"><div class=\"sk-estimator sk-toggleable\"><input class=\"sk-toggleable__control sk-hidden--visually\" id=\"sk-estimator-id-3\" type=\"checkbox\" checked><label for=\"sk-estimator-id-3\" class=\"sk-toggleable__label sk-toggleable__label-arrow\">LogisticRegression</label><div class=\"sk-toggleable__content\"><pre>LogisticRegression(max_iter=1000)</pre></div></div></div></div></div>"
      ],
      "text/plain": [
       "LogisticRegression(max_iter=1000)"
      ]
     },
     "execution_count": 183,
     "metadata": {},
     "output_type": "execute_result"
    }
   ],
   "source": [
    "myModel = joblib.load('lr_fashionMNIST.pkl')\n",
    "myModel"
   ]
  },
  {
   "cell_type": "markdown",
   "id": "9f3a8680",
   "metadata": {},
   "source": [
    "The loaded model can be used like any other trained model -  \n",
    "a) Load the saved model using joblib.load('model_name').  \n",
    "b) Prepare test data to make predictions on. This data should have the same \n",
    "format and features as the data the model was originally trained on.  \n",
    "c) Use the predict method of the loaded model (loaded_model.predict(test_data)) to make predictions on the new \n",
    "data. The result is stored in the predictions variable.  \n",
    "d) Finally, the prediction values can be compared against true lables to check accuracy"
   ]
  }
 ],
 "metadata": {
  "kernelspec": {
   "display_name": "Python 3 (ipykernel)",
   "language": "python",
   "name": "python3"
  },
  "language_info": {
   "codemirror_mode": {
    "name": "ipython",
    "version": 3
   },
   "file_extension": ".py",
   "mimetype": "text/x-python",
   "name": "python",
   "nbconvert_exporter": "python",
   "pygments_lexer": "ipython3",
   "version": "3.11.4"
  }
 },
 "nbformat": 4,
 "nbformat_minor": 5
}
