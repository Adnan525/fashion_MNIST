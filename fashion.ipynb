{
 "cells": [
  {
   "cell_type": "markdown",
   "id": "99d12c62",
   "metadata": {},
   "source": [
    "Using logisting regression techniques covered in week 3 to explore the fashion_MNIST dataset"
   ]
  },
  {
   "cell_type": "markdown",
   "id": "7c7bd60f",
   "metadata": {},
   "source": [
    "# 1. Introduction\n",
    "\n",
    "The aim of part B is to use the logistic regression techniqes applied on MNIST dataset, on Zalando's fashion MNIST dataset.\n",
    "\n",
    "1.1. <b>Logistic Regression :</b> Logistic Regression is a statistical method used for analyzing datasets in which there are one or more independent variables that determine an outcome. Logistic Regression is used when the dependent variable (target) is categorical. The outcome is typically a binary outcome, such as 1/0, true/false, although logistic regression can be extended to handle multi-class classification problems as well. Our goal is to use logistic regression to train a model that can classify 10 classes using the grayscale images present in the fashion_MNIST dataset.\n",
    "\n",
    "1.2 <b>About dataset : </b> Fashion MNIST is a dataset of Zlando's article images comprised of grayscale apparel images. The Aim of the dataset is to be a replacement of the MNIST datset to benchmark ML algorithms. \n",
    "The training set contains 60,000 examples and the test set has 10,000 datsets.\n",
    "Each example is a 28x28 grayscale image and has an assigned label.\n",
    "There are 10 unique lable classes such as T-shirt, Trouser, Ankle-Boot etc.\n",
    "The dataset comprises images that pose a classification challenge beyond the capacity of human visual discernment."
   ]
  },
  {
   "cell_type": "markdown",
   "id": "d40f9274",
   "metadata": {},
   "source": [
    "<img src=\"dataset-cover.png\" />\n",
    "<center>Fashion MNIST data-cover</center>"
   ]
  },
  {
   "cell_type": "markdown",
   "id": "6cd6cdc4",
   "metadata": {},
   "source": [
    "# 2. Logistic Regression Pipeline"
   ]
  },
  {
   "cell_type": "markdown",
   "id": "2efdd297",
   "metadata": {},
   "source": [
    "2.1 Loading libraries like pandas for data manipulation, matplotlib to plot data, sklearn to import the classificarion algorithm, data splittin and measure accuracy"
   ]
  },
  {
   "cell_type": "code",
   "execution_count": 1,
   "id": "d0db9394",
   "metadata": {},
   "outputs": [
    {
     "name": "stderr",
     "output_type": "stream",
     "text": [
      "/usr/local/lib/python3.8/site-packages/scipy/__init__.py:146: UserWarning: A NumPy version >=1.16.5 and <1.23.0 is required for this version of SciPy (detected version 1.24.3\n",
      "  warnings.warn(f\"A NumPy version >={np_minversion} and <{np_maxversion}\"\n"
     ]
    }
   ],
   "source": [
    "import numpy as np\n",
    "import pandas as pd\n",
    "import math\n",
    "import itertools\n",
    "import matplotlib as mpl\n",
    "import matplotlib.pyplot as plt\n",
    "import matplotlib.pylab as pylab\n",
    "from sklearn.model_selection import train_test_split\n",
    "from sklearn.linear_model import LogisticRegression\n",
    "from sklearn.metrics import confusion_matrix, classification_report"
   ]
  },
  {
   "cell_type": "markdown",
   "id": "7a941ef3",
   "metadata": {},
   "source": [
    "# 4. <b>Retrieving data</b>\n",
    "Loadin data from \"fashio_MNIST\" dir in the working directory using  using pandas read_csv().  \n",
    "<b>THE CODE CELL BELOW WILL HAVE TO BE REPLACED WITH CORRECT PATH IF THE DATASET IS STORED ANYWHERE ELSE.</b>"
   ]
  },
  {
   "cell_type": "code",
   "execution_count": 2,
   "id": "7426ebff",
   "metadata": {},
   "outputs": [],
   "source": [
    "df_train = pd.read_csv(\"fashion_MNIST/fashion-mnist_train.csv\")\n",
    "df_test = pd.read_csv(\"fashion_MNIST/fashion-mnist_test.csv\")"
   ]
  },
  {
   "cell_type": "markdown",
   "id": "bb50f418",
   "metadata": {},
   "source": [
    "# 5. <b>Exploring data</b> "
   ]
  },
  {
   "cell_type": "markdown",
   "id": "552c0d6e",
   "metadata": {},
   "source": [
    "<b>5.1 Explore the data and images : </b> Cheking the first few rows of the data can provide us with how data is arranged, how the dataset is labelled, data types and what variables are present in the dataset"
   ]
  },
  {
   "cell_type": "code",
   "execution_count": 3,
   "id": "5b6f44b9",
   "metadata": {},
   "outputs": [
    {
     "data": {
      "text/html": [
       "<div>\n",
       "<style scoped>\n",
       "    .dataframe tbody tr th:only-of-type {\n",
       "        vertical-align: middle;\n",
       "    }\n",
       "\n",
       "    .dataframe tbody tr th {\n",
       "        vertical-align: top;\n",
       "    }\n",
       "\n",
       "    .dataframe thead th {\n",
       "        text-align: right;\n",
       "    }\n",
       "</style>\n",
       "<table border=\"1\" class=\"dataframe\">\n",
       "  <thead>\n",
       "    <tr style=\"text-align: right;\">\n",
       "      <th></th>\n",
       "      <th>label</th>\n",
       "      <th>pixel1</th>\n",
       "      <th>pixel2</th>\n",
       "      <th>pixel3</th>\n",
       "      <th>pixel4</th>\n",
       "      <th>pixel5</th>\n",
       "      <th>pixel6</th>\n",
       "      <th>pixel7</th>\n",
       "      <th>pixel8</th>\n",
       "      <th>pixel9</th>\n",
       "      <th>...</th>\n",
       "      <th>pixel775</th>\n",
       "      <th>pixel776</th>\n",
       "      <th>pixel777</th>\n",
       "      <th>pixel778</th>\n",
       "      <th>pixel779</th>\n",
       "      <th>pixel780</th>\n",
       "      <th>pixel781</th>\n",
       "      <th>pixel782</th>\n",
       "      <th>pixel783</th>\n",
       "      <th>pixel784</th>\n",
       "    </tr>\n",
       "  </thead>\n",
       "  <tbody>\n",
       "    <tr>\n",
       "      <th>0</th>\n",
       "      <td>2</td>\n",
       "      <td>0</td>\n",
       "      <td>0</td>\n",
       "      <td>0</td>\n",
       "      <td>0</td>\n",
       "      <td>0</td>\n",
       "      <td>0</td>\n",
       "      <td>0</td>\n",
       "      <td>0</td>\n",
       "      <td>0</td>\n",
       "      <td>...</td>\n",
       "      <td>0</td>\n",
       "      <td>0</td>\n",
       "      <td>0</td>\n",
       "      <td>0</td>\n",
       "      <td>0</td>\n",
       "      <td>0</td>\n",
       "      <td>0</td>\n",
       "      <td>0</td>\n",
       "      <td>0</td>\n",
       "      <td>0</td>\n",
       "    </tr>\n",
       "    <tr>\n",
       "      <th>1</th>\n",
       "      <td>9</td>\n",
       "      <td>0</td>\n",
       "      <td>0</td>\n",
       "      <td>0</td>\n",
       "      <td>0</td>\n",
       "      <td>0</td>\n",
       "      <td>0</td>\n",
       "      <td>0</td>\n",
       "      <td>0</td>\n",
       "      <td>0</td>\n",
       "      <td>...</td>\n",
       "      <td>0</td>\n",
       "      <td>0</td>\n",
       "      <td>0</td>\n",
       "      <td>0</td>\n",
       "      <td>0</td>\n",
       "      <td>0</td>\n",
       "      <td>0</td>\n",
       "      <td>0</td>\n",
       "      <td>0</td>\n",
       "      <td>0</td>\n",
       "    </tr>\n",
       "    <tr>\n",
       "      <th>2</th>\n",
       "      <td>6</td>\n",
       "      <td>0</td>\n",
       "      <td>0</td>\n",
       "      <td>0</td>\n",
       "      <td>0</td>\n",
       "      <td>0</td>\n",
       "      <td>0</td>\n",
       "      <td>0</td>\n",
       "      <td>5</td>\n",
       "      <td>0</td>\n",
       "      <td>...</td>\n",
       "      <td>0</td>\n",
       "      <td>0</td>\n",
       "      <td>0</td>\n",
       "      <td>30</td>\n",
       "      <td>43</td>\n",
       "      <td>0</td>\n",
       "      <td>0</td>\n",
       "      <td>0</td>\n",
       "      <td>0</td>\n",
       "      <td>0</td>\n",
       "    </tr>\n",
       "    <tr>\n",
       "      <th>3</th>\n",
       "      <td>0</td>\n",
       "      <td>0</td>\n",
       "      <td>0</td>\n",
       "      <td>0</td>\n",
       "      <td>1</td>\n",
       "      <td>2</td>\n",
       "      <td>0</td>\n",
       "      <td>0</td>\n",
       "      <td>0</td>\n",
       "      <td>0</td>\n",
       "      <td>...</td>\n",
       "      <td>3</td>\n",
       "      <td>0</td>\n",
       "      <td>0</td>\n",
       "      <td>0</td>\n",
       "      <td>0</td>\n",
       "      <td>1</td>\n",
       "      <td>0</td>\n",
       "      <td>0</td>\n",
       "      <td>0</td>\n",
       "      <td>0</td>\n",
       "    </tr>\n",
       "    <tr>\n",
       "      <th>4</th>\n",
       "      <td>3</td>\n",
       "      <td>0</td>\n",
       "      <td>0</td>\n",
       "      <td>0</td>\n",
       "      <td>0</td>\n",
       "      <td>0</td>\n",
       "      <td>0</td>\n",
       "      <td>0</td>\n",
       "      <td>0</td>\n",
       "      <td>0</td>\n",
       "      <td>...</td>\n",
       "      <td>0</td>\n",
       "      <td>0</td>\n",
       "      <td>0</td>\n",
       "      <td>0</td>\n",
       "      <td>0</td>\n",
       "      <td>0</td>\n",
       "      <td>0</td>\n",
       "      <td>0</td>\n",
       "      <td>0</td>\n",
       "      <td>0</td>\n",
       "    </tr>\n",
       "  </tbody>\n",
       "</table>\n",
       "<p>5 rows × 785 columns</p>\n",
       "</div>"
      ],
      "text/plain": [
       "   label  pixel1  pixel2  pixel3  pixel4  pixel5  pixel6  pixel7  pixel8  \\\n",
       "0      2       0       0       0       0       0       0       0       0   \n",
       "1      9       0       0       0       0       0       0       0       0   \n",
       "2      6       0       0       0       0       0       0       0       5   \n",
       "3      0       0       0       0       1       2       0       0       0   \n",
       "4      3       0       0       0       0       0       0       0       0   \n",
       "\n",
       "   pixel9  ...  pixel775  pixel776  pixel777  pixel778  pixel779  pixel780  \\\n",
       "0       0  ...         0         0         0         0         0         0   \n",
       "1       0  ...         0         0         0         0         0         0   \n",
       "2       0  ...         0         0         0        30        43         0   \n",
       "3       0  ...         3         0         0         0         0         1   \n",
       "4       0  ...         0         0         0         0         0         0   \n",
       "\n",
       "   pixel781  pixel782  pixel783  pixel784  \n",
       "0         0         0         0         0  \n",
       "1         0         0         0         0  \n",
       "2         0         0         0         0  \n",
       "3         0         0         0         0  \n",
       "4         0         0         0         0  \n",
       "\n",
       "[5 rows x 785 columns]"
      ]
     },
     "execution_count": 3,
     "metadata": {},
     "output_type": "execute_result"
    }
   ],
   "source": [
    "df_train.head()"
   ]
  },
  {
   "cell_type": "code",
   "execution_count": 3,
   "id": "2dbeb794",
   "metadata": {},
   "outputs": [
    {
     "data": {
      "text/plain": [
       "(60000, 785)"
      ]
     },
     "execution_count": 3,
     "metadata": {},
     "output_type": "execute_result"
    }
   ],
   "source": [
    "# checking dataframe shape\n",
    "# 60,000 values\n",
    "# 785 variables\n",
    "df_train.shape"
   ]
  },
  {
   "cell_type": "markdown",
   "id": "8818527e",
   "metadata": {},
   "source": [
    "The label contains numerical value, for ease of understanding the values can be mapped to a dictionary where each unique value from the label column corresponds to an apparel.  \n",
    "df_train.dtypes() will show us the data type of each column.  \n",
    "The label is int64 or numerical value, so the dictioanry key value will be of type integer and value can be String.  \n",
    "In the dataset -  \n",
    "• Label: The Target variable.  \n",
    "• Pixels: The smallest unit of a Digital Image."
   ]
  },
  {
   "cell_type": "code",
   "execution_count": 4,
   "id": "2e6461d8",
   "metadata": {},
   "outputs": [],
   "source": [
    "#label is int64 not string\n",
    "mapping = {\n",
    "    0 : 'T-shirt/top',\n",
    "    1 : 'Trouser',\n",
    "    2 : 'Pullover',\n",
    "    3 : 'Dress',\n",
    "    4 : 'Coat',\n",
    "    5 : 'Sandal',\n",
    "    6 : 'Shirt',\n",
    "    7 : 'Sneaker',\n",
    "    8 : 'Bag',\n",
    "    9 : 'Ankle boot'}"
   ]
  },
  {
   "cell_type": "code",
   "execution_count": 6,
   "id": "700bb368",
   "metadata": {},
   "outputs": [
    {
     "data": {
      "text/html": [
       "<div>\n",
       "<style scoped>\n",
       "    .dataframe tbody tr th:only-of-type {\n",
       "        vertical-align: middle;\n",
       "    }\n",
       "\n",
       "    .dataframe tbody tr th {\n",
       "        vertical-align: top;\n",
       "    }\n",
       "\n",
       "    .dataframe thead th {\n",
       "        text-align: right;\n",
       "    }\n",
       "</style>\n",
       "<table border=\"1\" class=\"dataframe\">\n",
       "  <thead>\n",
       "    <tr style=\"text-align: right;\">\n",
       "      <th></th>\n",
       "      <th>label</th>\n",
       "      <th>pixel1</th>\n",
       "      <th>pixel2</th>\n",
       "      <th>pixel3</th>\n",
       "      <th>pixel4</th>\n",
       "      <th>pixel5</th>\n",
       "      <th>pixel6</th>\n",
       "      <th>pixel7</th>\n",
       "      <th>pixel8</th>\n",
       "      <th>pixel9</th>\n",
       "      <th>...</th>\n",
       "      <th>pixel775</th>\n",
       "      <th>pixel776</th>\n",
       "      <th>pixel777</th>\n",
       "      <th>pixel778</th>\n",
       "      <th>pixel779</th>\n",
       "      <th>pixel780</th>\n",
       "      <th>pixel781</th>\n",
       "      <th>pixel782</th>\n",
       "      <th>pixel783</th>\n",
       "      <th>pixel784</th>\n",
       "    </tr>\n",
       "  </thead>\n",
       "  <tbody>\n",
       "    <tr>\n",
       "      <th>0</th>\n",
       "      <td>Pullover</td>\n",
       "      <td>0</td>\n",
       "      <td>0</td>\n",
       "      <td>0</td>\n",
       "      <td>0</td>\n",
       "      <td>0</td>\n",
       "      <td>0</td>\n",
       "      <td>0</td>\n",
       "      <td>0</td>\n",
       "      <td>0</td>\n",
       "      <td>...</td>\n",
       "      <td>0</td>\n",
       "      <td>0</td>\n",
       "      <td>0</td>\n",
       "      <td>0</td>\n",
       "      <td>0</td>\n",
       "      <td>0</td>\n",
       "      <td>0</td>\n",
       "      <td>0</td>\n",
       "      <td>0</td>\n",
       "      <td>0</td>\n",
       "    </tr>\n",
       "    <tr>\n",
       "      <th>1</th>\n",
       "      <td>Ankle boot</td>\n",
       "      <td>0</td>\n",
       "      <td>0</td>\n",
       "      <td>0</td>\n",
       "      <td>0</td>\n",
       "      <td>0</td>\n",
       "      <td>0</td>\n",
       "      <td>0</td>\n",
       "      <td>0</td>\n",
       "      <td>0</td>\n",
       "      <td>...</td>\n",
       "      <td>0</td>\n",
       "      <td>0</td>\n",
       "      <td>0</td>\n",
       "      <td>0</td>\n",
       "      <td>0</td>\n",
       "      <td>0</td>\n",
       "      <td>0</td>\n",
       "      <td>0</td>\n",
       "      <td>0</td>\n",
       "      <td>0</td>\n",
       "    </tr>\n",
       "    <tr>\n",
       "      <th>2</th>\n",
       "      <td>Shirt</td>\n",
       "      <td>0</td>\n",
       "      <td>0</td>\n",
       "      <td>0</td>\n",
       "      <td>0</td>\n",
       "      <td>0</td>\n",
       "      <td>0</td>\n",
       "      <td>0</td>\n",
       "      <td>5</td>\n",
       "      <td>0</td>\n",
       "      <td>...</td>\n",
       "      <td>0</td>\n",
       "      <td>0</td>\n",
       "      <td>0</td>\n",
       "      <td>30</td>\n",
       "      <td>43</td>\n",
       "      <td>0</td>\n",
       "      <td>0</td>\n",
       "      <td>0</td>\n",
       "      <td>0</td>\n",
       "      <td>0</td>\n",
       "    </tr>\n",
       "    <tr>\n",
       "      <th>3</th>\n",
       "      <td>T-shirt/top</td>\n",
       "      <td>0</td>\n",
       "      <td>0</td>\n",
       "      <td>0</td>\n",
       "      <td>1</td>\n",
       "      <td>2</td>\n",
       "      <td>0</td>\n",
       "      <td>0</td>\n",
       "      <td>0</td>\n",
       "      <td>0</td>\n",
       "      <td>...</td>\n",
       "      <td>3</td>\n",
       "      <td>0</td>\n",
       "      <td>0</td>\n",
       "      <td>0</td>\n",
       "      <td>0</td>\n",
       "      <td>1</td>\n",
       "      <td>0</td>\n",
       "      <td>0</td>\n",
       "      <td>0</td>\n",
       "      <td>0</td>\n",
       "    </tr>\n",
       "    <tr>\n",
       "      <th>4</th>\n",
       "      <td>Dress</td>\n",
       "      <td>0</td>\n",
       "      <td>0</td>\n",
       "      <td>0</td>\n",
       "      <td>0</td>\n",
       "      <td>0</td>\n",
       "      <td>0</td>\n",
       "      <td>0</td>\n",
       "      <td>0</td>\n",
       "      <td>0</td>\n",
       "      <td>...</td>\n",
       "      <td>0</td>\n",
       "      <td>0</td>\n",
       "      <td>0</td>\n",
       "      <td>0</td>\n",
       "      <td>0</td>\n",
       "      <td>0</td>\n",
       "      <td>0</td>\n",
       "      <td>0</td>\n",
       "      <td>0</td>\n",
       "      <td>0</td>\n",
       "    </tr>\n",
       "  </tbody>\n",
       "</table>\n",
       "<p>5 rows × 785 columns</p>\n",
       "</div>"
      ],
      "text/plain": [
       "         label  pixel1  pixel2  pixel3  pixel4  pixel5  pixel6  pixel7  \\\n",
       "0     Pullover       0       0       0       0       0       0       0   \n",
       "1   Ankle boot       0       0       0       0       0       0       0   \n",
       "2        Shirt       0       0       0       0       0       0       0   \n",
       "3  T-shirt/top       0       0       0       1       2       0       0   \n",
       "4        Dress       0       0       0       0       0       0       0   \n",
       "\n",
       "   pixel8  pixel9  ...  pixel775  pixel776  pixel777  pixel778  pixel779  \\\n",
       "0       0       0  ...         0         0         0         0         0   \n",
       "1       0       0  ...         0         0         0         0         0   \n",
       "2       5       0  ...         0         0         0        30        43   \n",
       "3       0       0  ...         3         0         0         0         0   \n",
       "4       0       0  ...         0         0         0         0         0   \n",
       "\n",
       "   pixel780  pixel781  pixel782  pixel783  pixel784  \n",
       "0         0         0         0         0         0  \n",
       "1         0         0         0         0         0  \n",
       "2         0         0         0         0         0  \n",
       "3         1         0         0         0         0  \n",
       "4         0         0         0         0         0  \n",
       "\n",
       "[5 rows x 785 columns]"
      ]
     },
     "execution_count": 6,
     "metadata": {},
     "output_type": "execute_result"
    }
   ],
   "source": [
    "# mapping the values\n",
    "temp = df_train.replace({\"label\" : mapping})\n",
    "temp.head()"
   ]
  },
  {
   "cell_type": "markdown",
   "id": "d9442058",
   "metadata": {},
   "source": [
    "Using matplotlib we can plot the pixel values from the datset which are in column 1-784.  \n",
    "Reshaping the values to 28x28 will give us a 28x28 matrix that can represent the original image.  \n",
    "The image along with the label will provide us a better understandsing of the dataset."
   ]
  },
  {
   "cell_type": "code",
   "execution_count": 7,
   "id": "f5d30a47",
   "metadata": {},
   "outputs": [
    {
     "data": {
      "text/plain": [
       "Text(0.5, 1.0, 'T-shirt/top')"
      ]
     },
     "execution_count": 7,
     "metadata": {},
     "output_type": "execute_result"
    },
    {
     "data": {
      "image/png": "[encoded data removed]",
      "text/plain": [
       "<Figure size 640x480 with 1 Axes>"
      ]
     },
     "metadata": {},
     "output_type": "display_data"
    }
   ],
   "source": [
    "# get label\n",
    "label = temp.iloc[:, 0]\n",
    "# getting 28x28 matrix that will represent the image\n",
    "# using a random value 13 to show th result\n",
    "img = temp.drop('label', axis=1).values[13].reshape(28,28)\n",
    "plt.imshow(img, cmap='gray')\n",
    "plt.title(label[13])"
   ]
  },
  {
   "cell_type": "markdown",
   "id": "1b40890a",
   "metadata": {},
   "source": [
    "<b>5.2 Corresponding Matrix : </b> The img variable holds the 28x28 corresponding matrix that represents the previous image"
   ]
  },
  {
   "cell_type": "code",
   "execution_count": 11,
   "id": "b8c638c2",
   "metadata": {},
   "outputs": [
    {
     "data": {
      "text/plain": [
       "array([[  0,   0,   0,   0,   0,   0,   0,   0,   0,   0,   0,   0,   0,\n",
       "          0,   0,   0,   0,   0,   0,   0,   0,   0,   0,   0,   0,   0,\n",
       "          0,   0],\n",
       "       [  0,   0,   0,   0,   0,   3,   0,   0,   0, 142, 205,  52,   0,\n",
       "          0,   0,   0,  19, 171, 187,  41,   0,   0,   0,   3,   0,   0,\n",
       "          0,   0],\n",
       "       [  0,   0,   0,   2,   0,   0,  21, 149, 241, 221, 227, 220, 196,\n",
       "        185, 185, 195, 206, 223, 215, 216, 244, 135,   0,   0,   6,   0,\n",
       "          1,   0],\n",
       "       [  0,   0,   3,   0,   0, 119, 223, 220, 208, 199, 208, 205, 191,\n",
       "        194, 194, 195, 199, 207, 202, 200, 206, 230, 196,  19,   0,   4,\n",
       "          0,   0],\n",
       "       [  0,   4,   0,   0, 160, 234, 196, 197, 204, 207, 197, 216, 220,\n",
       "        217, 218, 215, 216, 203, 201, 202, 205, 199, 211, 206,  21,   0,\n",
       "          8,   0],\n",
       "       [  5,   0,   0, 196, 226, 194, 206, 200, 207, 205, 201, 195, 193,\n",
       "        198, 202, 201, 198, 197, 199, 199, 202, 205, 199, 207, 213,  36,\n",
       "          0,   6],\n",
       "       [  0,   3, 184, 218, 192, 204, 204, 199, 206, 202, 200, 203, 215,\n",
       "        219, 208, 204, 205, 195, 200, 191, 201, 203, 204, 197, 205, 212,\n",
       "         26,   0],\n",
       "       [ 42, 189, 218, 201, 200, 201, 200, 200, 200, 203, 195, 223, 158,\n",
       "        128, 100, 151, 208, 193, 205, 200, 203, 197, 203, 203, 197, 209,\n",
       "        201,  30],\n",
       "       [ 68, 223, 200, 197, 198, 201, 199, 200, 201, 199, 193, 210, 138,\n",
       "         19,   2, 109, 242, 213, 214, 207, 197, 203, 204, 203, 202, 198,\n",
       "        225,  77],\n",
       "       [  0,  61, 217, 200, 197, 200, 198, 200, 203, 208, 195, 236, 173,\n",
       "          0,   0, 108, 225,  73, 163, 217, 195, 202, 202, 201, 198, 225,\n",
       "         78,   0],\n",
       "       [  4,   0,  98, 220, 196, 196, 195, 201, 202, 220,  89, 100, 172,\n",
       "          0,   0,  73, 127,  77, 208, 210, 196, 195, 204, 202, 220,  86,\n",
       "          0,   3],\n",
       "       [  3,   1,   0, 148, 229, 199, 199, 202, 199, 223, 176,  85, 133,\n",
       "         62,  13, 118, 105, 165, 231, 200, 204, 203, 193, 255, 105,   0,\n",
       "          0,   0],\n",
       "       [  0,   2,   0,   0,  73, 155, 218, 200, 201, 198, 232, 172, 115,\n",
       "        116, 112, 116, 154, 233, 200, 202, 199, 241,  77,  22,   0,   0,\n",
       "          2,   0],\n",
       "       [  0,   0,   2,   0,   0, 178, 217, 195, 206, 204, 198, 244, 141,\n",
       "        149, 136, 144, 160, 182, 209, 200, 199, 215, 114,   0,   0,   0,\n",
       "          0,   0],\n",
       "       [  0,   2,   1,   0,   0, 208, 210, 194, 205, 197, 215, 143, 110,\n",
       "        138, 162, 144,  83,  70, 232, 199, 198, 210, 139,   0,   7,   0,\n",
       "          0,   0],\n",
       "       [  1,   0,   2,   0,   0, 215, 205, 200, 203, 196, 220, 144, 141,\n",
       "        162, 137, 159,  69, 179, 236, 199, 196, 215, 147,   0,   6,   0,\n",
       "          0,   0],\n",
       "       [  0,   0,   1,   0,   0, 183, 209, 204, 205, 196, 222, 160,  37,\n",
       "         51,  52,  90,  11, 170, 212, 199, 199, 217, 152,   0,   5,   0,\n",
       "          0,   0],\n",
       "       [  0,   0,   1,   0,   0, 185, 206, 202, 201, 203, 217, 194, 116,\n",
       "        140, 151, 181,  61, 187, 211, 199, 199, 217, 151,   0,   5,   0,\n",
       "          0,   0],\n",
       "       [  0,   0,   2,   0,   0, 190, 205, 200, 201, 198, 215, 200, 169,\n",
       "        176, 185, 166,   0, 173, 213, 199, 199, 217, 155,   0,   5,   0,\n",
       "          0,   0],\n",
       "       [  0,   0,   2,   0,   0, 195, 205, 202, 201, 199, 228, 103,  54,\n",
       "         65,  54,  80,   0,  96, 241, 198, 199, 216, 160,   0,   5,   0,\n",
       "          0,   0],\n",
       "       [  0,   0,   2,   0,   0, 199, 204, 201, 203, 201, 217, 191,  92,\n",
       "        108, 120, 139,  24, 173, 240, 200, 199, 213, 164,   0,   4,   0,\n",
       "          0,   0],\n",
       "       [  0,   0,   3,   0,   0, 202, 203, 200, 207, 199, 212, 190, 129,\n",
       "        145, 136, 163,  32,  44, 231, 203, 199, 213, 162,   0,   4,   0,\n",
       "          0,   0],\n",
       "       [  0,   0,   3,   0,   1, 203, 204, 202, 202, 205, 206, 208, 208,\n",
       "        212, 211, 223, 116, 103, 249, 197, 200, 215, 168,   0,   5,   0,\n",
       "          0,   0],\n",
       "       [  0,   0,   3,   0,   5, 206, 205, 202, 200, 206, 204, 200, 191,\n",
       "        184, 174, 209, 130,  72, 239, 200, 200, 216, 167,   0,   4,   0,\n",
       "          0,   0],\n",
       "       [  0,   0,   3,   0,   6, 205, 202, 200, 201, 199, 207, 165,  83,\n",
       "        101,  88, 106,  16, 127, 215, 200, 196, 215, 147,   0,   4,   0,\n",
       "          0,   0],\n",
       "       [  0,   0,   3,   0,  16, 222, 214, 208, 211, 206, 217, 158, 123,\n",
       "        151, 138, 169,  35, 182, 216, 207, 211, 228, 154,   0,   4,   0,\n",
       "          0,   0],\n",
       "       [  0,   0,   3,   0,  21, 167, 184, 185, 186, 184, 198, 132,  41,\n",
       "         67,  70,  73,  84, 240, 194, 186, 181, 192, 133,   0,   3,   0,\n",
       "          0,   0],\n",
       "       [  0,   0,   0,   0,   0,   0,   0,   0,   0,   0,   0,   2,   6,\n",
       "         15,  13,   5,  10,   0,   0,   0,   0,   0,   0,   0,   1,   0,\n",
       "          0,   0]])"
      ]
     },
     "execution_count": 11,
     "metadata": {},
     "output_type": "execute_result"
    }
   ],
   "source": [
    "img"
   ]
  },
  {
   "cell_type": "markdown",
   "id": "0be01643",
   "metadata": {},
   "source": [
    "<b>5.3 Describe the dataset: </b> Exploring the dataset sheds light on the data structure of this particular dataset.  \n",
    "    a) The dataset is comprised of numerical values.  \n",
    "    b) The first column(0) represents the labels which have been mapped to string values.  \n",
    "    c) The rest of the columns(1-784) represent the pixel values.  \n",
    "    d) Reshaping the pixel values to a 28x28 matrix can provide us with a corresponding matrix of the image.  \n",
    "    e) The matrix can be plotted to get the original image.  \n",
    "    f) The pixel values range from 0 - 255, can be normalized before using for logistic regression.  \n",
    "    g) The label values has to be casted to categorical type before we can use it for logistic regression."
   ]
  },
  {
   "cell_type": "markdown",
   "id": "44baead4",
   "metadata": {},
   "source": [
    "<b>5.4 Data cleansing : </b> We need to chek if the dataset has any missing values and if yes, how the missing parametres can be filled or discarded.  \n",
    "Upon checking it seems the dataset has no missing values, so no further action required."
   ]
  },
  {
   "cell_type": "code",
   "execution_count": null,
   "id": "762ea81e",
   "metadata": {},
   "outputs": [],
   "source": [
    "#check for NA\n",
    "df_train.isna().sum()\n",
    "df_train = df_train.dropna() #doesnt have any NA anyway"
   ]
  },
  {
   "cell_type": "markdown",
   "id": "89cfdda5",
   "metadata": {},
   "source": [
    "# 6. Building a logistic regression model"
   ]
  },
  {
   "cell_type": "markdown",
   "id": "db16fa88",
   "metadata": {},
   "source": [
    "<b>6.1 Loading packages : </b> Packages required for the logistic regression model are Logistic Regression, Train_test_split, confusion_matrix, classification_report from sklearn.  \n",
    "    The packages have been loaded at the beginning of the notebook"
   ]
  },
  {
   "cell_type": "markdown",
   "id": "6f4f57a7",
   "metadata": {},
   "source": [
    "<b>6.2 Target Variable : </b>"
   ]
  },
  {
   "cell_type": "code",
   "execution_count": 3,
   "id": "9b916284",
   "metadata": {},
   "outputs": [],
   "source": [
    "#X colums\n",
    "X = df_train[df_train.columns[1:]]\n",
    "#pred\n",
    "y = df_train[\"label\"]"
   ]
  },
  {
   "cell_type": "code",
   "execution_count": 4,
   "id": "2a48ba7a",
   "metadata": {},
   "outputs": [],
   "source": [
    "#same for test\n",
    "testX = df_test[df_test.columns[1:]]\n",
    "testY = df_test[\"label\"]"
   ]
  },
  {
   "cell_type": "markdown",
   "id": "9c37abfa",
   "metadata": {},
   "source": [
    "<b>6.3 Data preparation : </b> Data preparation will include the following actions -  \n",
    "    a) Normalize the test and train dataset, so we need to divide the numerical values with 255  \n",
    "    b) Convert the labels to categorical variables since logistic regression only work when predicted variables are categorical"
   ]
  },
  {
   "cell_type": "code",
   "execution_count": 5,
   "id": "86fae8b7",
   "metadata": {},
   "outputs": [],
   "source": [
    "#preparing the test dataset\n",
    "#scaling\n",
    "testX = testX.astype(\"float32\")/255\n",
    "testY = pd.Categorical(testY)"
   ]
  },
  {
   "cell_type": "code",
   "execution_count": 6,
   "id": "b506b7ce",
   "metadata": {},
   "outputs": [],
   "source": [
    "#preparing the training set\n",
    "#data scaling\n",
    "X = X.astype(\"float32\")/255\n",
    "#y needs to be converted into categorical\n",
    "y = pd.Categorical(y)"
   ]
  },
  {
   "cell_type": "markdown",
   "id": "d23b4f79",
   "metadata": {},
   "source": [
    "<b>6.4 Data splitting between Train and Validation : </b> \n",
    "The division of the training data into two distinct sets, namely the \"Training Set\" and the \"Validation Set,\" serves specific purposes within the context of our study. The Training Set is primarily employed for the training of our machine learning model, allowing it to learn and adjust its parameters based on the provided data. In contrast, the Validation Set serves as a means to assess the performance and generalization capabilities of our model on the dataset.\n",
    "To achieve this division, we employ the \"train_test_split\" method provided by the scikit-learn library, a widely-used machine learning toolkit. This method facilitates the creation of these separate sets, enabling us to effectively train and evaluate the model's performance in a systematic manner."
   ]
  },
  {
   "cell_type": "code",
   "execution_count": 7,
   "id": "8c1060ec",
   "metadata": {},
   "outputs": [],
   "source": [
    "X, validation_train, y, validation_test = train_test_split(X, y,test_size=0.1, random_state=66)"
   ]
  },
  {
   "cell_type": "markdown",
   "id": "7b30e0e8",
   "metadata": {},
   "source": [
    "<b>6.5 Selecting a linear regressuion classifier : </b>"
   ]
  },
  {
   "cell_type": "code",
   "execution_count": 10,
   "id": "b1b94774",
   "metadata": {},
   "outputs": [],
   "source": [
    "#logistic regression\n",
    "lr = LogisticRegression(solver = 'lbfgs', max_iter = 150)"
   ]
  },
  {
   "cell_type": "markdown",
   "id": "f16b0702",
   "metadata": {},
   "source": [
    "<b>6.6 Fitting the data : </b>"
   ]
  },
  {
   "cell_type": "code",
   "execution_count": 11,
   "id": "1534937b",
   "metadata": {},
   "outputs": [
    {
     "name": "stderr",
     "output_type": "stream",
     "text": [
      "/usr/local/lib/python3.8/site-packages/sklearn/linear_model/_logistic.py:763: ConvergenceWarning: lbfgs failed to converge (status=1):\n",
      "STOP: TOTAL NO. of ITERATIONS REACHED LIMIT.\n",
      "\n",
      "Increase the number of iterations (max_iter) or scale the data as shown in:\n",
      "    https://scikit-learn.org/stable/modules/preprocessing.html\n",
      "Please also refer to the documentation for alternative solver options:\n",
      "    https://scikit-learn.org/stable/modules/linear_model.html#logistic-regression\n",
      "  n_iter_i = _check_optimize_result(\n"
     ]
    },
    {
     "data": {
      "text/plain": [
       "LogisticRegression(max_iter=150)"
      ]
     },
     "execution_count": 11,
     "metadata": {},
     "output_type": "execute_result"
    }
   ],
   "source": [
    "lr.fit(X, y)"
   ]
  },
  {
   "cell_type": "markdown",
   "id": "b7b8067b",
   "metadata": {},
   "source": [
    "Because I'm having some issues with memory on my end and my kernel seems to restart every 30 mins or so, I will export the trained model so it can be loaded at a later time to predit.  \n",
    "The issue is not likely to pursue on other devices since I'm working with a limited memory allocation."
   ]
  },
  {
   "cell_type": "code",
   "execution_count": null,
   "id": "fa7e4f39",
   "metadata": {},
   "outputs": [],
   "source": [
    "import joblib\n",
    "joblib.dump(lr, 'lr_fashionMNIST.pkl')"
   ]
  },
  {
   "cell_type": "markdown",
   "id": "f0d238f3",
   "metadata": {},
   "source": [
    "<b>6.7 Predicting on unseen data : </b>"
   ]
  },
  {
   "cell_type": "code",
   "execution_count": null,
   "id": "b3c20887",
   "metadata": {},
   "outputs": [],
   "source": [
    "#y_pred = "
   ]
  },
  {
   "cell_type": "code",
   "execution_count": 12,
   "id": "c69313af",
   "metadata": {},
   "outputs": [
    {
     "name": "stdout",
     "output_type": "stream",
     "text": [
      "0.8564\n"
     ]
    }
   ],
   "source": [
    "score = model.score(testX, testY)\n",
    "print(score)"
   ]
  }
 ],
 "metadata": {
  "kernelspec": {
   "display_name": "Python 3 (ipykernel)",
   "language": "python",
   "name": "python3"
  },
  "language_info": {
   "codemirror_mode": {
    "name": "ipython",
    "version": 3
   },
   "file_extension": ".py",
   "mimetype": "text/x-python",
   "name": "python",
   "nbconvert_exporter": "python",
   "pygments_lexer": "ipython3",
   "version": "3.8.17"
  }
 },
 "nbformat": 4,
 "nbformat_minor": 5
}
